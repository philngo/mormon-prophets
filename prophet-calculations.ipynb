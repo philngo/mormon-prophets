{
 "metadata": {
  "name": "",
  "signature": "sha256:493889d9de2349bd2df8b0f8018b6efb491ece08f61af9c1b8311cedbf9612ab"
 },
 "nbformat": 3,
 "nbformat_minor": 0,
 "worksheets": [
  {
   "cells": [
    {
     "cell_type": "code",
     "collapsed": false,
     "input": [
      "%matplotlib inline\n",
      "\n",
      "matplot"
     ],
     "language": "python",
     "metadata": {},
     "outputs": []
    }
   ],
   "metadata": {}
  }
 ]
}