{
 "metadata": {
  "name": "",
  "signature": "sha256:ab49a504c736cb8343633aa317db2e45b61927a578421ffbcf99d54e2df73a10"
 },
 "nbformat": 3,
 "nbformat_minor": 0,
 "worksheets": [
  {
   "cells": [
    {
     "cell_type": "markdown",
     "metadata": {},
     "source": [
      "#Who will be the next Mormon prophet?\n",
      "\n",
      "It just so happens that there's a a convenient pattern to whom is usually called to be the next prophet of *The Church of Jesus Christ of Latter-day Saints*. For most of the 20th century and all of the 21st century so far, the pattern has been that the prophet of the church is the most senior apostle (by date of calling to the Quorum of the Twelve) becomes the prophet when the previous prophet dies. There are 15 of these apostles at any given time: three in the \"First Presidency\", comprising the prophet and his two counselors, and twelve in the Quorum of the Twelve Apostles.\n",
      "\n",
      "Given the ages of the apostles and some average actuarial life tables (which we use here despite knowing that these men are generally far healthier than the average population), we can fairly easily calculate the likely age of death of the current apostles and rank them by seniority to find some likely scenarios for new prophets."
     ]
    },
    {
     "cell_type": "code",
     "collapsed": false,
     "input": [
      "%matplotlib inline\n",
      "\n",
      "import matplotlib.pyplot as plt\n",
      "import numpy as np\n",
      "import pandas as pd\n",
      "from datetime import datetime, timedelta\n",
      "from collections import defaultdict"
     ],
     "language": "python",
     "metadata": {},
     "outputs": [],
     "prompt_number": 1
    },
    {
     "cell_type": "markdown",
     "metadata": {},
     "source": [
      "Here we load some actuarial life tables which give the population-level probability of death at any particular age."
     ]
    },
    {
     "cell_type": "code",
     "collapsed": false,
     "input": [
      "full_life_table = pd.read_csv('data/life_table.csv')\n",
      "full_life_table.set_index('Age',inplace=True)\n",
      "\n",
      "full_life_table[80:90]"
     ],
     "language": "python",
     "metadata": {},
     "outputs": [
      {
       "html": [
        "<div style=\"max-height:1000px;max-width:1500px;overflow:auto;\">\n",
        "<table border=\"1\" class=\"dataframe\">\n",
        "  <thead>\n",
        "    <tr style=\"text-align: right;\">\n",
        "      <th></th>\n",
        "      <th>M</th>\n",
        "      <th>F</th>\n",
        "    </tr>\n",
        "    <tr>\n",
        "      <th>Age</th>\n",
        "      <th></th>\n",
        "      <th></th>\n",
        "    </tr>\n",
        "  </thead>\n",
        "  <tbody>\n",
        "    <tr>\n",
        "      <th>80</th>\n",
        "      <td> 0.061620</td>\n",
        "      <td> 0.043899</td>\n",
        "    </tr>\n",
        "    <tr>\n",
        "      <th>81</th>\n",
        "      <td> 0.068153</td>\n",
        "      <td> 0.048807</td>\n",
        "    </tr>\n",
        "    <tr>\n",
        "      <th>82</th>\n",
        "      <td> 0.075349</td>\n",
        "      <td> 0.054374</td>\n",
        "    </tr>\n",
        "    <tr>\n",
        "      <th>83</th>\n",
        "      <td> 0.083230</td>\n",
        "      <td> 0.060661</td>\n",
        "    </tr>\n",
        "    <tr>\n",
        "      <th>84</th>\n",
        "      <td> 0.091933</td>\n",
        "      <td> 0.067751</td>\n",
        "    </tr>\n",
        "    <tr>\n",
        "      <th>85</th>\n",
        "      <td> 0.101625</td>\n",
        "      <td> 0.075729</td>\n",
        "    </tr>\n",
        "    <tr>\n",
        "      <th>86</th>\n",
        "      <td> 0.112448</td>\n",
        "      <td> 0.084673</td>\n",
        "    </tr>\n",
        "    <tr>\n",
        "      <th>87</th>\n",
        "      <td> 0.124502</td>\n",
        "      <td> 0.094645</td>\n",
        "    </tr>\n",
        "    <tr>\n",
        "      <th>88</th>\n",
        "      <td> 0.137837</td>\n",
        "      <td> 0.105694</td>\n",
        "    </tr>\n",
        "    <tr>\n",
        "      <th>89</th>\n",
        "      <td> 0.152458</td>\n",
        "      <td> 0.117853</td>\n",
        "    </tr>\n",
        "  </tbody>\n",
        "</table>\n",
        "</div>"
       ],
       "metadata": {},
       "output_type": "pyout",
       "prompt_number": 2,
       "text": [
        "            M         F\n",
        "Age                    \n",
        "80   0.061620  0.043899\n",
        "81   0.068153  0.048807\n",
        "82   0.075349  0.054374\n",
        "83   0.083230  0.060661\n",
        "84   0.091933  0.067751\n",
        "85   0.101625  0.075729\n",
        "86   0.112448  0.084673\n",
        "87   0.124502  0.094645\n",
        "88   0.137837  0.105694\n",
        "89   0.152458  0.117853"
       ]
      }
     ],
     "prompt_number": 2
    },
    {
     "cell_type": "code",
     "collapsed": false,
     "input": [
      "# grab the values for the \"Male\" column\n",
      "prob_death = full_life_table.M.values"
     ],
     "language": "python",
     "metadata": {},
     "outputs": [],
     "prompt_number": 3
    },
    {
     "cell_type": "markdown",
     "metadata": {},
     "source": [
      "It would be slightly more convient to work with these values if we knew, for a man of any particular age, the probability of being alive at any age. We calculate a new life table which has along each row $x$ the probability that a man of age $x$ will live to reach age $y$."
     ]
    },
    {
     "cell_type": "code",
     "collapsed": false,
     "input": [
      "# Create a new life table\n",
      "l = len(prob_death)\n",
      "life_table = np.ones((l,l))\n",
      "for i in range(0,l,1):\n",
      "    for j in range(i,l,1):\n",
      "        life_table[i][j]=np.prod(1 - prob_death[i:j+1])"
     ],
     "language": "python",
     "metadata": {},
     "outputs": [],
     "prompt_number": 4
    },
    {
     "cell_type": "code",
     "collapsed": false,
     "input": [
      "# Load current apostle ages and seniority\n",
      "apostle_data = pd.read_csv('data/apostles.csv')\n",
      "apostle_data"
     ],
     "language": "python",
     "metadata": {},
     "outputs": [
      {
       "html": [
        "<div style=\"max-height:1000px;max-width:1500px;overflow:auto;\">\n",
        "<table border=\"1\" class=\"dataframe\">\n",
        "  <thead>\n",
        "    <tr style=\"text-align: right;\">\n",
        "      <th></th>\n",
        "      <th>Name</th>\n",
        "      <th>Birth</th>\n",
        "      <th>Twelve</th>\n",
        "      <th>Ordained</th>\n",
        "      <th>Seniority</th>\n",
        "    </tr>\n",
        "  </thead>\n",
        "  <tbody>\n",
        "    <tr>\n",
        "      <th>0 </th>\n",
        "      <td>       Thomas S. Monson</td>\n",
        "      <td> 08/21/1927</td>\n",
        "      <td> 10/04/1963</td>\n",
        "      <td> 10/10/1963</td>\n",
        "      <td>  1</td>\n",
        "    </tr>\n",
        "    <tr>\n",
        "      <th>1 </th>\n",
        "      <td>         Boyd K. Packer</td>\n",
        "      <td> 09/10/1924</td>\n",
        "      <td> 04/06/1970</td>\n",
        "      <td> 04/09/1970</td>\n",
        "      <td>  2</td>\n",
        "    </tr>\n",
        "    <tr>\n",
        "      <th>2 </th>\n",
        "      <td>           L. Tom Perry</td>\n",
        "      <td> 08/05/1922</td>\n",
        "      <td> 04/06/1974</td>\n",
        "      <td> 04/11/1974</td>\n",
        "      <td>  3</td>\n",
        "    </tr>\n",
        "    <tr>\n",
        "      <th>3 </th>\n",
        "      <td>      Russell M. Nelson</td>\n",
        "      <td> 09/09/1924</td>\n",
        "      <td> 04/07/1984</td>\n",
        "      <td> 04/12/1984</td>\n",
        "      <td>  4</td>\n",
        "    </tr>\n",
        "    <tr>\n",
        "      <th>4 </th>\n",
        "      <td>         Dallin H. Oaks</td>\n",
        "      <td> 08/12/1932</td>\n",
        "      <td> 04/07/1984</td>\n",
        "      <td> 05/03/1984</td>\n",
        "      <td>  5</td>\n",
        "    </tr>\n",
        "    <tr>\n",
        "      <th>5 </th>\n",
        "      <td>     M. Russell Ballard</td>\n",
        "      <td> 10/08/1928</td>\n",
        "      <td> 10/06/1985</td>\n",
        "      <td> 10/10/1985</td>\n",
        "      <td>  6</td>\n",
        "    </tr>\n",
        "    <tr>\n",
        "      <th>6 </th>\n",
        "      <td>       Richard G. Scott</td>\n",
        "      <td> 11/07/1928</td>\n",
        "      <td> 10/01/1988</td>\n",
        "      <td> 10/06/1988</td>\n",
        "      <td>  7</td>\n",
        "    </tr>\n",
        "    <tr>\n",
        "      <th>7 </th>\n",
        "      <td>        Robert D. Hales</td>\n",
        "      <td> 08/24/1932</td>\n",
        "      <td> 04/07/1994</td>\n",
        "      <td> 04/07/1994</td>\n",
        "      <td>  8</td>\n",
        "    </tr>\n",
        "    <tr>\n",
        "      <th>8 </th>\n",
        "      <td>     Jeffrey R. Holland</td>\n",
        "      <td> 12/03/1940</td>\n",
        "      <td> 06/23/1994</td>\n",
        "      <td> 06/23/1994</td>\n",
        "      <td>  9</td>\n",
        "    </tr>\n",
        "    <tr>\n",
        "      <th>9 </th>\n",
        "      <td>        Henry B. Eyring</td>\n",
        "      <td> 05/31/1933</td>\n",
        "      <td> 04/01/1995</td>\n",
        "      <td> 04/01/1995</td>\n",
        "      <td> 10</td>\n",
        "    </tr>\n",
        "    <tr>\n",
        "      <th>10</th>\n",
        "      <td>     Dieter F. Uchtdorf</td>\n",
        "      <td> 11/06/1940</td>\n",
        "      <td> 10/02/2004</td>\n",
        "      <td> 10/07/2004</td>\n",
        "      <td> 11</td>\n",
        "    </tr>\n",
        "    <tr>\n",
        "      <th>11</th>\n",
        "      <td>        David A. Bednar</td>\n",
        "      <td> 06/15/1952</td>\n",
        "      <td> 10/07/2004</td>\n",
        "      <td> 10/07/2004</td>\n",
        "      <td> 12</td>\n",
        "    </tr>\n",
        "    <tr>\n",
        "      <th>12</th>\n",
        "      <td>        Quentin L. Cook</td>\n",
        "      <td> 09/08/1940</td>\n",
        "      <td> 10/06/2007</td>\n",
        "      <td> 10/11/2007</td>\n",
        "      <td> 13</td>\n",
        "    </tr>\n",
        "    <tr>\n",
        "      <th>13</th>\n",
        "      <td> D. Todd Christofferson</td>\n",
        "      <td> 01/24/1945</td>\n",
        "      <td> 04/05/2008</td>\n",
        "      <td> 04/10/2008</td>\n",
        "      <td> 14</td>\n",
        "    </tr>\n",
        "    <tr>\n",
        "      <th>14</th>\n",
        "      <td>       Neil L. Andersen</td>\n",
        "      <td> 08/09/1951</td>\n",
        "      <td> 04/04/2009</td>\n",
        "      <td> 04/09/2009</td>\n",
        "      <td> 15</td>\n",
        "    </tr>\n",
        "  </tbody>\n",
        "</table>\n",
        "</div>"
       ],
       "metadata": {},
       "output_type": "pyout",
       "prompt_number": 5,
       "text": [
        "                      Name       Birth      Twelve    Ordained  Seniority\n",
        "0         Thomas S. Monson  08/21/1927  10/04/1963  10/10/1963          1\n",
        "1           Boyd K. Packer  09/10/1924  04/06/1970  04/09/1970          2\n",
        "2             L. Tom Perry  08/05/1922  04/06/1974  04/11/1974          3\n",
        "3        Russell M. Nelson  09/09/1924  04/07/1984  04/12/1984          4\n",
        "4           Dallin H. Oaks  08/12/1932  04/07/1984  05/03/1984          5\n",
        "5       M. Russell Ballard  10/08/1928  10/06/1985  10/10/1985          6\n",
        "6         Richard G. Scott  11/07/1928  10/01/1988  10/06/1988          7\n",
        "7          Robert D. Hales  08/24/1932  04/07/1994  04/07/1994          8\n",
        "8       Jeffrey R. Holland  12/03/1940  06/23/1994  06/23/1994          9\n",
        "9          Henry B. Eyring  05/31/1933  04/01/1995  04/01/1995         10\n",
        "10      Dieter F. Uchtdorf  11/06/1940  10/02/2004  10/07/2004         11\n",
        "11         David A. Bednar  06/15/1952  10/07/2004  10/07/2004         12\n",
        "12         Quentin L. Cook  09/08/1940  10/06/2007  10/11/2007         13\n",
        "13  D. Todd Christofferson  01/24/1945  04/05/2008  04/10/2008         14\n",
        "14        Neil L. Andersen  08/09/1951  04/04/2009  04/09/2009         15"
       ]
      }
     ],
     "prompt_number": 5
    },
    {
     "cell_type": "markdown",
     "metadata": {},
     "source": [
      "### Helper class\n",
      "\n",
      "For programming convenience, this class captures some simple calculations we will need to do for each prophet."
     ]
    },
    {
     "cell_type": "code",
     "collapsed": false,
     "input": [
      "class Apostle:\n",
      "    def __init__(self,name,birth,twelve,ordained,seniority):\n",
      "        self.name=name\n",
      "        self.birth=datetime.strptime(birth,'%m/%d/%Y')\n",
      "        self.twelve=datetime.strptime(twelve,'%m/%d/%Y')\n",
      "        self.ordained=datetime.strptime(ordained,'%m/%d/%Y')\n",
      "        self.seniority=seniority\n",
      "    \n",
      "    def __str__(self):\n",
      "        return self.name\n",
      "    \n",
      "    def age(self,year):\n",
      "        \"\"\"Return the apostle's age in a particular year.\"\"\"\n",
      "        return year-self.birth.year\n",
      "    \n",
      "    def current_age(self):\n",
      "        \"\"\"Return the apostle's age in the current year.\"\"\"\n",
      "        current_year = datetime.now().year\n",
      "        return self.age(current_year)\n",
      "    \n",
      "    def most_probable_death_year(self,life_table):\n",
      "        \"\"\"Return the apostle's most likely year of death given\n",
      "        a particular life table.\"\"\"\n",
      "        current_age = self.current_age()\n",
      "        age_of_death = np.argmax(life_table[current_age]<.5)\n",
      "        return self.birth.year + age_of_death\n",
      "    \n",
      "    def most_probable_life_state(self,year,life_table):\n",
      "        \"\"\"Return True if, given the most probable year of death,\n",
      "        the apostle is alive in any part of a particular year\n",
      "        given a particular life table.\"\"\"\n",
      "        return year <= self.most_probable_death_year(life_table)\n",
      "    \n",
      "    def simulate_death_year(self,life_table):\n",
      "        \"\"\"Return a death year randomly drawn from the distribution\n",
      "        of likely death years given a particular life table.\"\"\"\n",
      "        death_year = np.argmin(life_table[self.current_age()] > np.random.random(len(life_table[0])))\n",
      "        return self.birth.year + death_year\n",
      "    \n",
      "    def simulate_life_state(self,year,life_table):\n",
      "        \"\"\"Return True if the apostle is alive given a year of death\n",
      "        drawn from the distribution of likely death years given\n",
      "        by a particular life table.\"\"\"\n",
      "        life_state = self.simulate_death_year(life_table)\n",
      "        return year <= self.simulate_death_year(life_table)\n",
      "        "
     ],
     "language": "python",
     "metadata": {},
     "outputs": [],
     "prompt_number": 6
    },
    {
     "cell_type": "code",
     "collapsed": false,
     "input": [
      "# Create apostle objects and print their ages\n",
      "apostles = []\n",
      "for i,row in apostle_data.iterrows():\n",
      "    apostle = Apostle(row.Name,row.Birth,row.Twelve,row.Ordained,row.Seniority)\n",
      "    apostles.append(apostle)\n",
      "    print \"{}. {} is {} years old\".format(apostle.seniority,apostle.name,apostle.current_age())\n",
      "    "
     ],
     "language": "python",
     "metadata": {},
     "outputs": [
      {
       "output_type": "stream",
       "stream": "stdout",
       "text": [
        "1. Thomas S. Monson is 87 years old\n",
        "2. Boyd K. Packer is 90 years old\n",
        "3. L. Tom Perry is 92 years old\n",
        "4. Russell M. Nelson is 90 years old\n",
        "5. Dallin H. Oaks is 82 years old\n",
        "6. M. Russell Ballard is 86 years old\n",
        "7. Richard G. Scott is 86 years old\n",
        "8. Robert D. Hales is 82 years old\n",
        "9. Jeffrey R. Holland is 74 years old\n",
        "10. Henry B. Eyring is 81 years old\n",
        "11. Dieter F. Uchtdorf is 74 years old\n",
        "12. David A. Bednar is 62 years old\n",
        "13. Quentin L. Cook is 74 years old\n",
        "14. D. Todd Christofferson is 69 years old\n",
        "15. Neil L. Andersen is 63 years old\n"
       ]
      }
     ],
     "prompt_number": 7
    },
    {
     "cell_type": "markdown",
     "metadata": {},
     "source": [
      "### Methodology\n",
      "Now we define two more functions to help us calculate who is prophet in a particular year.\n",
      "Each of these functions uses a different method to calculate who will be prophet:\n",
      "\n",
      "#### Method 1: Winner takes all\n",
      "The simplest method simply calculates which year each apostle is likely to die in (by\n",
      "taking the first year they are more likely to be dead than alive) and returns the most\n",
      "senior living apostle who is more likely to be alive than dead.\n",
      "\n",
      "#### Method 2: Monte-Carlo simulation\n",
      "A slightly more interesting (and more robust) method runs a simulation for each apostle,\n",
      "making draws from the whole distribution of probable years of death. If we run this\n",
      "simulation many many times, we will end up with estimates of the probability that each\n",
      "apostle will be prophet in any particular year. This method will end up giving us a\n",
      "clearer picture than the winner takes all method.\n",
      "\n",
      "#### Method 3: Accounting for health\n",
      "This method repeats the Monte-Carlo simulation but allows for manual adjustment of the health of\n",
      "the apostles be adding or subtracting years from their life. By default, since all have lived very healthy\n",
      "lives, eight years are subtracted from each of their ages (to simulate an average life expectancy of 85. From there, up to two years is added or subtracted to account for perceived health status (very unhealthy, unhealty, normal, healthy, very healthy)."
     ]
    },
    {
     "cell_type": "code",
     "collapsed": false,
     "input": [
      "# define some helper functions for calculating who is prophet in a particular year\n",
      "# using two different methods\n",
      "\n",
      "def most_probable_prophet_in_year(apostles,year,life_table):\n",
      "    \"\"\"Return the apostle (given a list of apostles) most likely\n",
      "    to be prophet in a particular year\"\"\"\n",
      "    apostles_alive = [apostle for apostle in apostles\n",
      "                      if apostle.most_probable_life_state(year,life_table)]\n",
      "    \n",
      "    if len(apostles_alive) == 0:\n",
      "        return None\n",
      "    \n",
      "    apostle_index = np.argmin([apostle.seniority for apostle in apostles_alive])\n",
      "    return apostles_alive[apostle_index]\n",
      "\n",
      "def simulate_prophet_in_year(apostles,year,life_table):\n",
      "    \"\"\"Return the apostle (given a list of apostles) who is prophet\n",
      "    in a particular year after simulating each apostle's life state\n",
      "    in the given year.\"\"\"\n",
      "    apostles_alive = [apostle for apostle in apostles\n",
      "                      if apostle.simulate_life_state(year,life_table)]\n",
      "    if len(apostles_alive) == 0:\n",
      "        return None\n",
      "    \n",
      "    apostle_index = np.argmin([apostle.seniority for apostle in apostles_alive])\n",
      "    return apostles_alive[apostle_index]"
     ],
     "language": "python",
     "metadata": {},
     "outputs": [],
     "prompt_number": 8
    },
    {
     "cell_type": "code",
     "collapsed": false,
     "input": [
      "# Plot a histogram of each apostle's likely death years\n",
      "for apostle in apostles:\n",
      "    death_year_dist = []\n",
      "    for i in range(10000):\n",
      "        death_year_dist.append(apostle.simulate_death_year(life_table))\n",
      "\n",
      "    plt.hist(death_year_dist,bins=range(2014,2040))\n",
      "    plt.title(\"Histogram of year of death of {}\".format(apostle.name))\n",
      "    plt.show()"
     ],
     "language": "python",
     "metadata": {},
     "outputs": [
      {
       "metadata": {},
       "output_type": "display_data",
       "png": "[encoded data removed]",
       "text": [
        "<matplotlib.figure.Figure at 0x108471510>"
       ]
      },
      {
       "metadata": {},
       "output_type": "display_data",
       "png": "[encoded data removed]",
       "text": [
        "<matplotlib.figure.Figure at 0x10a50ed50>"
       ]
      },
      {
       "metadata": {},
       "output_type": "display_data",
       "png": "[encoded data removed]",
       "text": [
        "<matplotlib.figure.Figure at 0x10a612690>"
       ]
      },
      {
       "metadata": {},
       "output_type": "display_data",
       "png": "[encoded data removed]",
       "text": [
        "<matplotlib.figure.Figure at 0x10a553c90>"
       ]
      },
      {
       "metadata": {},
       "output_type": "display_data",
       "png": "[encoded data removed]",
       "text": [
        "<matplotlib.figure.Figure at 0x10a4e7d90>"
       ]
      },
      {
       "metadata": {},
       "output_type": "display_data",
       "png": "[encoded data removed]",
       "text": [
        "<matplotlib.figure.Figure at 0x101df3bd0>"
       ]
      },
      {
       "metadata": {},
       "output_type": "display_data",
       "png": "[encoded data removed]",
       "text": [
        "<matplotlib.figure.Figure at 0x10a603250>"
       ]
      },
      {
       "metadata": {},
       "output_type": "display_data",
       "png": "[encoded data removed]",
       "text": [
        "<matplotlib.figure.Figure at 0x101df3bd0>"
       ]
      },
      {
       "metadata": {},
       "output_type": "display_data",
       "png": "[encoded data removed]",
       "text": [
        "<matplotlib.figure.Figure at 0x1026a43d0>"
       ]
      },
      {
       "metadata": {},
       "output_type": "display_data",
       "png": "[encoded data removed]",
       "text": [
        "<matplotlib.figure.Figure at 0x10a606cd0>"
       ]
      },
      {
       "metadata": {},
       "output_type": "display_data",
       "png": "[encoded data removed]",
       "text": [
        "<matplotlib.figure.Figure at 0x100a1de90>"
       ]
      },
      {
       "metadata": {},
       "output_type": "display_data",
       "png": "[encoded data removed]",
       "text": [
        "<matplotlib.figure.Figure at 0x10845e5d0>"
       ]
      },
      {
       "metadata": {},
       "output_type": "display_data",
       "png": "[encoded data removed]",
       "text": [
        "<matplotlib.figure.Figure at 0x1026a43d0>"
       ]
      },
      {
       "metadata": {},
       "output_type": "display_data",
       "png": "[encoded data removed]",
       "text": [
        "<matplotlib.figure.Figure at 0x101df9290>"
       ]
      },
      {
       "metadata": {},
       "output_type": "display_data",
       "png": "[encoded data removed]",
       "text": [
        "<matplotlib.figure.Figure at 0x10827cd10>"
       ]
      }
     ],
     "prompt_number": 9
    },
    {
     "cell_type": "code",
     "collapsed": false,
     "input": [
      "# Given our model, who is most likely to be prophet in the year 2020?\n",
      "print most_probable_prophet_in_year(apostles,2020,life_table)"
     ],
     "language": "python",
     "metadata": {},
     "outputs": [
      {
       "output_type": "stream",
       "stream": "stdout",
       "text": [
        "Dallin H. Oaks\n"
       ]
      }
     ],
     "prompt_number": 10
    },
    {
     "cell_type": "markdown",
     "metadata": {},
     "source": [
      "### Method 1"
     ]
    },
    {
     "cell_type": "code",
     "collapsed": false,
     "input": [
      "# Given our model, who is most likely to be prophet in every year from now until 2040?\n",
      "for year in range(2014,2040):\n",
      "    print \"{}: {}\".format(year, most_probable_prophet_in_year(apostles,year,life_table))"
     ],
     "language": "python",
     "metadata": {},
     "outputs": [
      {
       "output_type": "stream",
       "stream": "stdout",
       "text": [
        "2014: Thomas S. Monson\n",
        "2015: Thomas S. Monson\n",
        "2016: Thomas S. Monson\n",
        "2017: Thomas S. Monson\n",
        "2018: Thomas S. Monson\n",
        "2019: Dallin H. Oaks\n",
        "2020: Dallin H. Oaks\n",
        "2021: Jeffrey R. Holland\n",
        "2022: Jeffrey R. Holland\n",
        "2023: Jeffrey R. Holland\n",
        "2024: Jeffrey R. Holland\n",
        "2025: Jeffrey R. Holland\n",
        "2026: David A. Bednar\n",
        "2027: David A. Bednar\n",
        "2028: David A. Bednar\n",
        "2029: David A. Bednar\n",
        "2030: David A. Bednar\n",
        "2031: David A. Bednar\n",
        "2032: David A. Bednar\n",
        "2033: David A. Bednar\n",
        "2034: David A. Bednar\n",
        "2035: None\n",
        "2036: None\n",
        "2037: None\n",
        "2038: None\n",
        "2039: None\n"
       ]
      }
     ],
     "prompt_number": 11
    },
    {
     "cell_type": "markdown",
     "metadata": {},
     "source": [
      "### Method 2 - simulation:\n",
      "\n",
      "What if we looked at the probabilities over 10000 trials? This would give us a\n",
      "more accurate picture of how likely it is that any of the current apostles\n",
      "will be prophet in any particular year. Note that it is possible (and probable)\n",
      "that in some of the later years none of the current apostles will be alive. In\n",
      "these cases, I have assigned a probability of prophethood to \"other\"."
     ]
    },
    {
     "cell_type": "code",
     "collapsed": false,
     "input": [
      "def run_simulation(n_trials,apostles,life_table):\n",
      "    for year in range(2014,2040):\n",
      "        prophets = defaultdict(list)\n",
      "        for i in range(n_trials):\n",
      "            prophet = simulate_prophet_in_year(apostles,year,life_table)\n",
      "            if prophet is not None:\n",
      "                prophets[prophet.name].append(1)\n",
      "            else:\n",
      "                prophets[\"other\"].append(1)\n",
      "        probabilities = []\n",
      "        for key,count in prophets.items():\n",
      "            probabilities.append((key,float(len(count))/n_trials))\n",
      "        probabilities = sorted(probabilities,key=lambda x: x[1],reverse=True)\n",
      "        print year\n",
      "        for name,probability in probabilities:\n",
      "            print \" {} ({})\".format(name,probability)\n",
      "        print"
     ],
     "language": "python",
     "metadata": {},
     "outputs": [],
     "prompt_number": 12
    },
    {
     "cell_type": "code",
     "collapsed": false,
     "input": [
      "run_simulation(10000,apostles,life_table)"
     ],
     "language": "python",
     "metadata": {},
     "outputs": [
      {
       "output_type": "stream",
       "stream": "stdout",
       "text": [
        "2014\n",
        " Thomas S. Monson (1.0)\n",
        "\n",
        "2015"
       ]
      },
      {
       "output_type": "stream",
       "stream": "stdout",
       "text": [
        "\n",
        " Thomas S. Monson (0.8719)\n",
        " Boyd K. Packer (0.1071)\n",
        " L. Tom Perry (0.017)\n",
        " Russell M. Nelson (0.0029)\n",
        " Dallin H. Oaks (0.001)\n",
        " M. Russell Ballard (0.0001)\n",
        "\n",
        "2016"
       ]
      },
      {
       "output_type": "stream",
       "stream": "stdout",
       "text": [
        "\n",
        " Thomas S. Monson (0.6626)\n",
        " Boyd K. Packer (0.1932)\n",
        " L. Tom Perry (0.0702)\n",
        " Russell M. Nelson (0.042)\n",
        " Dallin H. Oaks (0.0249)\n",
        " M. Russell Ballard (0.0046)\n",
        " Richard G. Scott (0.0018)\n",
        " Robert D. Hales (0.0007)\n",
        "\n",
        "2017"
       ]
      },
      {
       "output_type": "stream",
       "stream": "stdout",
       "text": [
        "\n",
        " Thomas S. Monson (0.4135)\n",
        " Boyd K. Packer (0.1755)\n",
        " Dallin H. Oaks (0.1323)\n",
        " Russell M. Nelson (0.0947)\n",
        " L. Tom Perry (0.0934)\n",
        " M. Russell Ballard (0.0395)\n",
        " Richard G. Scott (0.0224)\n",
        " Robert D. Hales (0.0184)\n",
        " Jeffrey R. Holland (0.0085)\n",
        " Henry B. Eyring (0.0012)\n",
        " Dieter F. Uchtdorf (0.0003)\n",
        " David A. Bednar (0.0003)\n",
        "\n",
        "2018"
       ]
      },
      {
       "output_type": "stream",
       "stream": "stdout",
       "text": [
        "\n",
        " Dallin H. Oaks (0.2291)\n",
        " Thomas S. Monson (0.2185)\n",
        " Boyd K. Packer (0.0996)\n",
        " M. Russell Ballard (0.0817)\n",
        " Russell M. Nelson (0.0817)\n",
        " Robert D. Hales (0.074)\n",
        " Jeffrey R. Holland (0.0675)\n",
        " Richard G. Scott (0.0607)\n",
        " L. Tom Perry (0.056)\n",
        " Henry B. Eyring (0.0152)\n",
        " Dieter F. Uchtdorf (0.0101)\n",
        " David A. Bednar (0.0051)\n",
        " Quentin L. Cook (0.0006)\n",
        " D. Todd Christofferson (0.0002)\n",
        "\n",
        "2019"
       ]
      },
      {
       "output_type": "stream",
       "stream": "stdout",
       "text": [
        "\n",
        " Dallin H. Oaks (0.2114)\n",
        " Jeffrey R. Holland (0.19)\n",
        " Robert D. Hales (0.1189)\n",
        " Thomas S. Monson (0.0977)\n",
        " M. Russell Ballard (0.0727)\n",
        " Richard G. Scott (0.064)\n",
        " Dieter F. Uchtdorf (0.0612)\n",
        " Henry B. Eyring (0.0483)\n",
        " David A. Bednar (0.0403)\n",
        " Boyd K. Packer (0.0355)\n",
        " Russell M. Nelson (0.0338)\n",
        " L. Tom Perry (0.016)\n",
        " Quentin L. Cook (0.0046)\n",
        " D. Todd Christofferson (0.0043)\n",
        " Neil L. Andersen (0.0009)\n",
        " other (0.0004)\n",
        "\n",
        "2020"
       ]
      },
      {
       "output_type": "stream",
       "stream": "stdout",
       "text": [
        "\n",
        " Jeffrey R. Holland (0.265)\n",
        " Dallin H. Oaks (0.132)\n",
        " David A. Bednar (0.1312)\n",
        " Dieter F. Uchtdorf (0.125)\n",
        " Robert D. Hales (0.1039)\n",
        " Henry B. Eyring (0.0652)\n",
        " Richard G. Scott (0.04)\n",
        " M. Russell Ballard (0.0351)\n",
        " Thomas S. Monson (0.0331)\n",
        " Quentin L. Cook (0.019)\n",
        " D. Todd Christofferson (0.0188)\n",
        " Boyd K. Packer (0.0088)\n",
        " Neil L. Andersen (0.0084)\n",
        " Russell M. Nelson (0.0077)\n",
        " other (0.0036)\n",
        " L. Tom Perry (0.0032)\n",
        "\n",
        "2021"
       ]
      },
      {
       "output_type": "stream",
       "stream": "stdout",
       "text": [
        "\n",
        " David A. Bednar (0.2577)\n",
        " Jeffrey R. Holland (0.249)\n",
        " Dieter F. Uchtdorf (0.1565)\n",
        " Dallin H. Oaks (0.0629)\n",
        " Robert D. Hales (0.0594)\n",
        " Henry B. Eyring (0.0473)\n",
        " D. Todd Christofferson (0.041)\n",
        " Quentin L. Cook (0.0364)\n",
        " Neil L. Andersen (0.0331)\n",
        " other (0.0195)\n",
        " Richard G. Scott (0.0133)\n",
        " M. Russell Ballard (0.0123)\n",
        " Thomas S. Monson (0.0082)\n",
        " Russell M. Nelson (0.0016)\n",
        " Boyd K. Packer (0.0015)\n",
        " L. Tom Perry (0.0003)\n",
        "\n",
        "2022"
       ]
      },
      {
       "output_type": "stream",
       "stream": "stdout",
       "text": [
        "\n",
        " David A. Bednar (0.3282)\n",
        " Jeffrey R. Holland (0.1894)\n",
        " Dieter F. Uchtdorf (0.137)\n",
        " Neil L. Andersen (0.0747)\n",
        " D. Todd Christofferson (0.0725)\n",
        " other (0.0573)\n",
        " Quentin L. Cook (0.0505)\n",
        " Henry B. Eyring (0.0305)\n",
        " Dallin H. Oaks (0.0249)\n",
        " Robert D. Hales (0.0241)\n",
        " M. Russell Ballard (0.0041)\n",
        " Richard G. Scott (0.0038)\n",
        " Thomas S. Monson (0.0025)\n",
        " Boyd K. Packer (0.0004)\n",
        " Russell M. Nelson (0.0001)\n",
        "\n",
        "2023"
       ]
      },
      {
       "output_type": "stream",
       "stream": "stdout",
       "text": [
        "\n",
        " David A. Bednar (0.364)\n",
        " other (0.1301)\n",
        " Jeffrey R. Holland (0.121)\n",
        " Neil L. Andersen (0.1134)\n",
        " Dieter F. Uchtdorf (0.1074)\n",
        " D. Todd Christofferson (0.0892)\n",
        " Quentin L. Cook (0.046)\n",
        " Henry B. Eyring (0.0103)\n",
        " Dallin H. Oaks (0.0088)\n",
        " Robert D. Hales (0.0087)\n",
        " M. Russell Ballard (0.0004)\n",
        " Richard G. Scott (0.0004)\n",
        " Thomas S. Monson (0.0003)\n",
        "\n",
        "2024"
       ]
      },
      {
       "output_type": "stream",
       "stream": "stdout",
       "text": [
        "\n",
        " David A. Bednar (0.3459)\n",
        " other (0.2551)\n",
        " Neil L. Andersen (0.1403)\n",
        " D. Todd Christofferson (0.0896)\n",
        " Jeffrey R. Holland (0.0663)\n",
        " Dieter F. Uchtdorf (0.0576)\n",
        " Quentin L. Cook (0.0363)\n",
        " Henry B. Eyring (0.0038)\n",
        " Dallin H. Oaks (0.0025)\n",
        " Robert D. Hales (0.0025)\n",
        " Richard G. Scott (0.0001)\n",
        "\n",
        "2025"
       ]
      },
      {
       "output_type": "stream",
       "stream": "stdout",
       "text": [
        "\n",
        " other (0.3829)\n",
        " David A. Bednar (0.2886)\n",
        " Neil L. Andersen (0.1573)\n",
        " D. Todd Christofferson (0.078)\n",
        " Dieter F. Uchtdorf (0.0362)\n",
        " Jeffrey R. Holland (0.0348)\n",
        " Quentin L. Cook (0.0206)\n",
        " Henry B. Eyring (0.001)\n",
        " Robert D. Hales (0.0005)\n",
        " Dallin H. Oaks (0.0001)\n",
        "\n",
        "2026"
       ]
      },
      {
       "output_type": "stream",
       "stream": "stdout",
       "text": [
        "\n",
        " other (0.5042)\n",
        " David A. Bednar (0.2446)\n",
        " Neil L. Andersen (0.1506)\n",
        " D. Todd Christofferson (0.0578)\n",
        " Jeffrey R. Holland (0.0168)\n",
        " Dieter F. Uchtdorf (0.0144)\n",
        " Quentin L. Cook (0.0115)\n",
        " Dallin H. Oaks (0.0001)\n",
        "\n",
        "2027"
       ]
      },
      {
       "output_type": "stream",
       "stream": "stdout",
       "text": [
        "\n",
        " other (0.6426)\n",
        " David A. Bednar (0.1838)\n",
        " Neil L. Andersen (0.1191)\n",
        " D. Todd Christofferson (0.0353)\n",
        " Dieter F. Uchtdorf (0.0075)\n",
        " Jeffrey R. Holland (0.0063)\n",
        " Quentin L. Cook (0.0054)\n",
        "\n",
        "2028"
       ]
      },
      {
       "output_type": "stream",
       "stream": "stdout",
       "text": [
        "\n",
        " other (0.7438)\n",
        " David A. Bednar (0.1305)\n",
        " Neil L. Andersen (0.0975)\n",
        " D. Todd Christofferson (0.021)\n",
        " Dieter F. Uchtdorf (0.003)\n",
        " Jeffrey R. Holland (0.0021)\n",
        " Quentin L. Cook (0.0021)\n",
        "\n",
        "2029"
       ]
      },
      {
       "output_type": "stream",
       "stream": "stdout",
       "text": [
        "\n",
        " other (0.8325)\n",
        " David A. Bednar (0.0903)\n",
        " Neil L. Andersen (0.065)\n",
        " D. Todd Christofferson (0.0103)\n",
        " Dieter F. Uchtdorf (0.0007)\n",
        " Quentin L. Cook (0.0007)\n",
        " Jeffrey R. Holland (0.0005)\n",
        "\n",
        "2030"
       ]
      },
      {
       "output_type": "stream",
       "stream": "stdout",
       "text": [
        "\n",
        " other (0.8883)\n",
        " David A. Bednar (0.0609)\n",
        " Neil L. Andersen (0.0451)\n",
        " D. Todd Christofferson (0.0053)\n",
        " Quentin L. Cook (0.0002)\n",
        " Jeffrey R. Holland (0.0001)\n",
        " Dieter F. Uchtdorf (0.0001)\n",
        "\n",
        "2031"
       ]
      },
      {
       "output_type": "stream",
       "stream": "stdout",
       "text": [
        "\n",
        " other (0.9302)\n",
        " David A. Bednar (0.0399)\n",
        " Neil L. Andersen (0.0282)\n",
        " D. Todd Christofferson (0.0016)\n",
        " Jeffrey R. Holland (0.0001)\n",
        "\n",
        "2032"
       ]
      },
      {
       "output_type": "stream",
       "stream": "stdout",
       "text": [
        "\n",
        " other (0.9614)\n",
        " David A. Bednar (0.0248)\n",
        " Neil L. Andersen (0.0128)\n",
        " D. Todd Christofferson (0.001)\n",
        "\n",
        "2033"
       ]
      },
      {
       "output_type": "stream",
       "stream": "stdout",
       "text": [
        "\n",
        " other (0.9788)\n",
        " David A. Bednar (0.0126)\n",
        " Neil L. Andersen (0.0083)\n",
        " D. Todd Christofferson (0.0003)\n",
        "\n",
        "2034"
       ]
      },
      {
       "output_type": "stream",
       "stream": "stdout",
       "text": [
        "\n",
        " other (0.99)\n",
        " David A. Bednar (0.0067)\n",
        " Neil L. Andersen (0.0033)\n",
        "\n",
        "2035"
       ]
      },
      {
       "output_type": "stream",
       "stream": "stdout",
       "text": [
        "\n",
        " other (0.9938)\n",
        " David A. Bednar (0.0043)\n",
        " Neil L. Andersen (0.0019)\n",
        "\n",
        "2036"
       ]
      },
      {
       "output_type": "stream",
       "stream": "stdout",
       "text": [
        "\n",
        " other (0.9979)\n",
        " David A. Bednar (0.0011)\n",
        " Neil L. Andersen (0.001)\n",
        "\n",
        "2037"
       ]
      },
      {
       "output_type": "stream",
       "stream": "stdout",
       "text": [
        "\n",
        " other (0.9991)\n",
        " David A. Bednar (0.0007)\n",
        " Neil L. Andersen (0.0002)\n",
        "\n",
        "2038"
       ]
      },
      {
       "output_type": "stream",
       "stream": "stdout",
       "text": [
        "\n",
        " other (0.9997)\n",
        " Neil L. Andersen (0.0002)\n",
        " David A. Bednar (0.0001)\n",
        "\n",
        "2039"
       ]
      },
      {
       "output_type": "stream",
       "stream": "stdout",
       "text": [
        "\n",
        " other (0.9999)\n",
        " David A. Bednar (0.0001)\n",
        "\n"
       ]
      }
     ],
     "prompt_number": 13
    },
    {
     "cell_type": "markdown",
     "metadata": {},
     "source": [
      "### Method 2  - conclusions\n",
      "\n",
      "Interestingly, for many of the years far down the line, the apostle most likely to be prophet is far from clear.\n",
      "\n",
      "By 2026, only twelve years from now, our model says that it is more likely that someone other than one of the current apostles will be prophet. However, since our model systematically underestimates the age of death of these men, we should take this number with a grain of salt. By 2039, 25 years from now, it's extraordinarily unlikely that any of the current apostles will still be alive.\n",
      "\n",
      "#### Caveats\n",
      "This model did not explicitly take health state into account, but approximated it using current age. Method 3 is one way of accounting for this.\n",
      "\n",
      "### Method 3 - adjusting for health and systematic mortality biases.\n",
      "One way to approximate of actual health status is to adjust their ages to reflect both their current health and the greater-than-average overall health of their demographic."
     ]
    },
    {
     "cell_type": "code",
     "collapsed": false,
     "input": [
      "default = 8\n",
      "apostle_age_adjustments = {\n",
      "    \"Thomas S. Monson\":   default - 2,\n",
      "    \"Boyd K. Packer\":     default - 2,\n",
      "    \"L. Tom Perry\":       default + 1,\n",
      "    \"Russell M. Nelson\":  default + 2,\n",
      "    \"Dallin H. Oaks\":     default + 1,\n",
      "    \"M. Russell Ballard\": default,\n",
      "    \"Richard G. Scott\":   default - 2,\n",
      "    \"Robert D. Hales\":    default + 2,\n",
      "    \"Jeffrey R. Holland\": default,\n",
      "    \"Henry B. Eyring\":    default,\n",
      "    \"Dieter F. Uchtdorf\": default,\n",
      "    \"David A. Bednar\":    default,\n",
      "    \"Quentin L. Cook\":    default,\n",
      "    \"D. Todd Christofferson\": default,\n",
      "    \"Neil L. Andersen\":   default}"
     ],
     "language": "python",
     "metadata": {},
     "outputs": [],
     "prompt_number": 14
    },
    {
     "cell_type": "code",
     "collapsed": false,
     "input": [
      "adj_apostles = []\n",
      "for apostle in apostles:\n",
      "    age_adj = apostle_age_adjustments[apostle.name]\n",
      "    adj_apostles.append(Apostle(apostle.name,\n",
      "                                (apostle.birth + timedelta(days=age_adj*365)).strftime(\"%m/%d/%Y\"),\n",
      "                                apostle.twelve.strftime(\"%m/%d/%Y\"),\n",
      "                                apostle.ordained.strftime(\"%m/%d/%Y\"),\n",
      "                                apostle.seniority))"
     ],
     "language": "python",
     "metadata": {},
     "outputs": [],
     "prompt_number": 15
    },
    {
     "cell_type": "code",
     "collapsed": false,
     "input": [
      "run_simulation(10000,adj_apostles,life_table)"
     ],
     "language": "python",
     "metadata": {},
     "outputs": [
      {
       "output_type": "stream",
       "stream": "stdout",
       "text": [
        "2014\n",
        " Thomas S. Monson (1.0)\n",
        "\n",
        "2015"
       ]
      },
      {
       "output_type": "stream",
       "stream": "stdout",
       "text": [
        "\n",
        " Thomas S. Monson (0.9338)\n",
        " Boyd K. Packer (0.0598)\n",
        " L. Tom Perry (0.0055)\n",
        " Russell M. Nelson (0.0009)\n",
        "\n",
        "2016"
       ]
      },
      {
       "output_type": "stream",
       "stream": "stdout",
       "text": [
        "\n",
        " Thomas S. Monson (0.8046)\n",
        " Boyd K. Packer (0.1447)\n",
        " L. Tom Perry (0.04)\n",
        " Russell M. Nelson (0.0092)\n",
        " Dallin H. Oaks (0.0015)\n",
        "\n",
        "2017"
       ]
      },
      {
       "output_type": "stream",
       "stream": "stdout",
       "text": [
        "\n",
        " Thomas S. Monson (0.6346)\n",
        " Boyd K. Packer (0.1939)\n",
        " L. Tom Perry (0.1002)\n",
        " Russell M. Nelson (0.0493)\n",
        " Dallin H. Oaks (0.0174)\n",
        " M. Russell Ballard (0.0035)\n",
        " Jeffrey R. Holland (0.0004)\n",
        " Robert D. Hales (0.0004)\n",
        " Richard G. Scott (0.0003)\n",
        "\n",
        "2018"
       ]
      },
      {
       "output_type": "stream",
       "stream": "stdout",
       "text": [
        "\n",
        " Thomas S. Monson (0.4512)\n",
        " Boyd K. Packer (0.1879)\n",
        " L. Tom Perry (0.1355)\n",
        " Russell M. Nelson (0.1124)\n",
        " Dallin H. Oaks (0.0801)\n",
        " M. Russell Ballard (0.02)\n",
        " Richard G. Scott (0.0063)\n",
        " Robert D. Hales (0.0051)\n",
        " Jeffrey R. Holland (0.0012)\n",
        " Dieter F. Uchtdorf (0.0003)\n",
        "\n",
        "2019"
       ]
      },
      {
       "output_type": "stream",
       "stream": "stdout",
       "text": [
        "\n",
        " Thomas S. Monson (0.2942)\n",
        " Dallin H. Oaks (0.1737)\n",
        " Russell M. Nelson (0.1458)\n",
        " L. Tom Perry (0.1322)\n",
        " Boyd K. Packer (0.1306)\n",
        " M. Russell Ballard (0.0502)\n",
        " Robert D. Hales (0.03)\n",
        " Richard G. Scott (0.0225)\n",
        " Jeffrey R. Holland (0.0157)\n",
        " Henry B. Eyring (0.0031)\n",
        " Dieter F. Uchtdorf (0.0013)\n",
        " David A. Bednar (0.0006)\n",
        " Quentin L. Cook (0.0001)\n",
        "\n",
        "2020"
       ]
      },
      {
       "output_type": "stream",
       "stream": "stdout",
       "text": [
        "\n",
        " Dallin H. Oaks (0.2416)\n",
        " Thomas S. Monson (0.1635)\n",
        " Russell M. Nelson (0.125)\n",
        " Robert D. Hales (0.0874)\n",
        " L. Tom Perry (0.0866)\n",
        " M. Russell Ballard (0.0837)\n",
        " Boyd K. Packer (0.0747)\n",
        " Jeffrey R. Holland (0.0623)\n",
        " Richard G. Scott (0.0458)\n",
        " Henry B. Eyring (0.0131)\n",
        " Dieter F. Uchtdorf (0.0098)\n",
        " David A. Bednar (0.0054)\n",
        " Quentin L. Cook (0.0006)\n",
        " D. Todd Christofferson (0.0003)\n",
        " Neil L. Andersen (0.0002)\n",
        "\n",
        "2021"
       ]
      },
      {
       "output_type": "stream",
       "stream": "stdout",
       "text": [
        "\n",
        " Dallin H. Oaks (0.2492)\n",
        " Robert D. Hales (0.1389)\n",
        " Jeffrey R. Holland (0.132)\n",
        " Russell M. Nelson (0.0902)\n",
        " Thomas S. Monson (0.0865)\n",
        " M. Russell Ballard (0.0791)\n",
        " Richard G. Scott (0.0433)\n",
        " L. Tom Perry (0.0414)\n",
        " Dieter F. Uchtdorf (0.0385)\n",
        " Henry B. Eyring (0.038)\n",
        " Boyd K. Packer (0.0294)\n",
        " David A. Bednar (0.026)\n",
        " Quentin L. Cook (0.0041)\n",
        " D. Todd Christofferson (0.0021)\n",
        " Neil L. Andersen (0.0012)\n",
        " other (0.0001)\n",
        "\n",
        "2022"
       ]
      },
      {
       "output_type": "stream",
       "stream": "stdout",
       "text": [
        "\n",
        " Dallin H. Oaks (0.2046)\n",
        " Jeffrey R. Holland (0.198)\n",
        " Robert D. Hales (0.1533)\n",
        " Dieter F. Uchtdorf (0.085)\n",
        " David A. Bednar (0.0739)\n",
        " Henry B. Eyring (0.0588)\n",
        " M. Russell Ballard (0.0586)\n",
        " Russell M. Nelson (0.048)\n",
        " Thomas S. Monson (0.0371)\n",
        " Richard G. Scott (0.0305)\n",
        " L. Tom Perry (0.0158)\n",
        " Quentin L. Cook (0.0115)\n",
        " D. Todd Christofferson (0.0096)\n",
        " Boyd K. Packer (0.009)\n",
        " Neil L. Andersen (0.0044)\n",
        " other (0.0019)\n",
        "\n",
        "2023"
       ]
      },
      {
       "output_type": "stream",
       "stream": "stdout",
       "text": [
        "\n",
        " Jeffrey R. Holland (0.2333)\n",
        " David A. Bednar (0.1466)\n",
        " Dallin H. Oaks (0.139)\n",
        " Robert D. Hales (0.1301)\n",
        " Dieter F. Uchtdorf (0.1267)\n",
        " Henry B. Eyring (0.0578)\n",
        " M. Russell Ballard (0.0356)\n",
        " Quentin L. Cook (0.0294)\n",
        " D. Todd Christofferson (0.024)\n",
        " Russell M. Nelson (0.0192)\n",
        " Richard G. Scott (0.0165)\n",
        " Neil L. Andersen (0.0149)\n",
        " Thomas S. Monson (0.0105)\n",
        " other (0.0081)\n",
        " L. Tom Perry (0.0051)\n",
        " Boyd K. Packer (0.0032)\n",
        "\n",
        "2024"
       ]
      },
      {
       "output_type": "stream",
       "stream": "stdout",
       "text": [
        "\n",
        " David A. Bednar (0.2269)\n",
        " Jeffrey R. Holland (0.2171)\n",
        " Dieter F. Uchtdorf (0.1474)\n",
        " Robert D. Hales (0.0925)\n",
        " Dallin H. Oaks (0.0851)\n",
        " D. Todd Christofferson (0.047)\n",
        " Henry B. Eyring (0.0461)\n",
        " Quentin L. Cook (0.0377)\n",
        " Neil L. Andersen (0.0358)\n",
        " other (0.0265)\n",
        " M. Russell Ballard (0.017)\n",
        " Russell M. Nelson (0.0077)\n",
        " Richard G. Scott (0.0067)\n",
        " Thomas S. Monson (0.0049)\n",
        " L. Tom Perry (0.0013)\n",
        " Boyd K. Packer (0.0003)\n",
        "\n",
        "2025"
       ]
      },
      {
       "output_type": "stream",
       "stream": "stdout",
       "text": [
        "\n",
        " David A. Bednar (0.2883)\n",
        " Jeffrey R. Holland (0.1835)\n",
        " Dieter F. Uchtdorf (0.1288)\n",
        " Neil L. Andersen (0.0688)\n",
        " D. Todd Christofferson (0.0671)\n",
        " other (0.0634)\n",
        " Robert D. Hales (0.0604)\n",
        " Quentin L. Cook (0.0494)\n",
        " Dallin H. Oaks (0.0459)\n",
        " Henry B. Eyring (0.0335)\n",
        " M. Russell Ballard (0.0054)\n",
        " Russell M. Nelson (0.0018)\n",
        " Richard G. Scott (0.0015)\n",
        " Thomas S. Monson (0.0015)\n",
        " L. Tom Perry (0.0005)\n",
        " Boyd K. Packer (0.0002)\n",
        "\n",
        "2026"
       ]
      },
      {
       "output_type": "stream",
       "stream": "stdout",
       "text": [
        "\n",
        " David A. Bednar (0.3145)\n",
        " Jeffrey R. Holland (0.1304)\n",
        " other (0.1249)\n",
        " Dieter F. Uchtdorf (0.1111)\n",
        " Neil L. Andersen (0.0989)\n",
        " D. Todd Christofferson (0.0832)\n",
        " Quentin L. Cook (0.0564)\n",
        " Robert D. Hales (0.0314)\n",
        " Dallin H. Oaks (0.0254)\n",
        " Henry B. Eyring (0.0203)\n",
        " M. Russell Ballard (0.0023)\n",
        " Richard G. Scott (0.0006)\n",
        " Russell M. Nelson (0.0005)\n",
        " Boyd K. Packer (0.0001)\n",
        "\n",
        "2027"
       ]
      },
      {
       "output_type": "stream",
       "stream": "stdout",
       "text": [
        "\n",
        " David A. Bednar (0.3186)\n",
        " other (0.2093)\n",
        " Neil L. Andersen (0.1241)\n",
        " Jeffrey R. Holland (0.096)\n",
        " D. Todd Christofferson (0.0873)\n",
        " Dieter F. Uchtdorf (0.0834)\n",
        " Quentin L. Cook (0.044)\n",
        " Robert D. Hales (0.0158)\n",
        " Dallin H. Oaks (0.0108)\n",
        " Henry B. Eyring (0.0101)\n",
        " M. Russell Ballard (0.0006)\n",
        "\n",
        "2028"
       ]
      },
      {
       "output_type": "stream",
       "stream": "stdout",
       "text": [
        "\n",
        " other (0.3176)\n",
        " David A. Bednar (0.2935)\n",
        " Neil L. Andersen (0.1423)\n",
        " D. Todd Christofferson (0.0815)\n",
        " Jeffrey R. Holland (0.0587)\n",
        " Dieter F. Uchtdorf (0.0574)\n",
        " Quentin L. Cook (0.0337)\n",
        " Robert D. Hales (0.008)\n",
        " Henry B. Eyring (0.004)\n",
        " Dallin H. Oaks (0.0032)\n",
        " M. Russell Ballard (0.0001)\n",
        "\n",
        "2029"
       ]
      },
      {
       "output_type": "stream",
       "stream": "stdout",
       "text": [
        "\n",
        " other (0.4345)\n",
        " David A. Bednar (0.2557)\n",
        " Neil L. Andersen (0.1527)\n",
        " D. Todd Christofferson (0.0679)\n",
        " Jeffrey R. Holland (0.0328)\n",
        " Dieter F. Uchtdorf (0.0296)\n",
        " Quentin L. Cook (0.0213)\n",
        " Robert D. Hales (0.0026)\n",
        " Dallin H. Oaks (0.0015)\n",
        " Henry B. Eyring (0.0014)\n",
        "\n",
        "2030"
       ]
      },
      {
       "output_type": "stream",
       "stream": "stdout",
       "text": [
        "\n",
        " other (0.5404)\n",
        " David A. Bednar (0.2142)\n",
        " Neil L. Andersen (0.1383)\n",
        " D. Todd Christofferson (0.0548)\n",
        " Dieter F. Uchtdorf (0.0189)\n",
        " Jeffrey R. Holland (0.017)\n",
        " Quentin L. Cook (0.0145)\n",
        " Robert D. Hales (0.0009)\n",
        " Henry B. Eyring (0.0005)\n",
        " Dallin H. Oaks (0.0005)\n",
        "\n",
        "2031"
       ]
      },
      {
       "output_type": "stream",
       "stream": "stdout",
       "text": [
        "\n",
        " other (0.6445)\n",
        " David A. Bednar (0.1731)\n",
        " Neil L. Andersen (0.1179)\n",
        " D. Todd Christofferson (0.0385)\n",
        " Jeffrey R. Holland (0.0093)\n",
        " Dieter F. Uchtdorf (0.0084)\n",
        " Quentin L. Cook (0.0076)\n",
        " Robert D. Hales (0.0004)\n",
        " Henry B. Eyring (0.0002)\n",
        " Dallin H. Oaks (0.0001)\n",
        "\n",
        "2032"
       ]
      },
      {
       "output_type": "stream",
       "stream": "stdout",
       "text": [
        "\n",
        " other (0.7402)\n",
        " David A. Bednar (0.1286)\n",
        " Neil L. Andersen (0.0933)\n",
        " D. Todd Christofferson (0.0249)\n",
        " Jeffrey R. Holland (0.0054)\n",
        " Dieter F. Uchtdorf (0.0048)\n",
        " Quentin L. Cook (0.0027)\n",
        " Dallin H. Oaks (0.0001)\n",
        "\n",
        "2033"
       ]
      },
      {
       "output_type": "stream",
       "stream": "stdout",
       "text": [
        "\n",
        " other (0.8066)\n",
        " David A. Bednar (0.0965)\n",
        " Neil L. Andersen (0.0729)\n",
        " D. Todd Christofferson (0.0185)\n",
        " Dieter F. Uchtdorf (0.0024)\n",
        " Jeffrey R. Holland (0.0018)\n",
        " Quentin L. Cook (0.0013)\n",
        "\n",
        "2034"
       ]
      },
      {
       "output_type": "stream",
       "stream": "stdout",
       "text": [
        "\n",
        " other (0.866)\n",
        " David A. Bednar (0.0697)\n",
        " Neil L. Andersen (0.0553)\n",
        " D. Todd Christofferson (0.0077)\n",
        " Dieter F. Uchtdorf (0.0008)\n",
        " Jeffrey R. Holland (0.0004)\n",
        " Quentin L. Cook (0.0001)\n",
        "\n",
        "2035"
       ]
      },
      {
       "output_type": "stream",
       "stream": "stdout",
       "text": [
        "\n",
        " other (0.9032)\n",
        " David A. Bednar (0.0509)\n",
        " Neil L. Andersen (0.0395)\n",
        " D. Todd Christofferson (0.0056)\n",
        " Quentin L. Cook (0.0004)\n",
        " Jeffrey R. Holland (0.0002)\n",
        " Dieter F. Uchtdorf (0.0002)\n",
        "\n",
        "2036"
       ]
      },
      {
       "output_type": "stream",
       "stream": "stdout",
       "text": [
        "\n",
        " other (0.9322)\n",
        " David A. Bednar (0.0368)\n",
        " Neil L. Andersen (0.0284)\n",
        " D. Todd Christofferson (0.0024)\n",
        " Jeffrey R. Holland (0.0001)\n",
        " Dieter F. Uchtdorf (0.0001)\n",
        "\n",
        "2037"
       ]
      },
      {
       "output_type": "stream",
       "stream": "stdout",
       "text": [
        "\n",
        " other (0.9626)\n",
        " David A. Bednar (0.0197)\n",
        " Neil L. Andersen (0.0169)\n",
        " D. Todd Christofferson (0.0008)\n",
        "\n",
        "2038"
       ]
      },
      {
       "output_type": "stream",
       "stream": "stdout",
       "text": [
        "\n",
        " other (0.976)\n",
        " David A. Bednar (0.014)\n",
        " Neil L. Andersen (0.0097)\n",
        " D. Todd Christofferson (0.0003)\n",
        "\n",
        "2039"
       ]
      },
      {
       "output_type": "stream",
       "stream": "stdout",
       "text": [
        "\n",
        " other (0.9871)\n",
        " David A. Bednar (0.0074)\n",
        " Neil L. Andersen (0.0054)\n",
        " D. Todd Christofferson (0.0001)\n",
        "\n"
       ]
      }
     ],
     "prompt_number": 16
    },
    {
     "cell_type": "markdown",
     "metadata": {},
     "source": [
      "### Next steps:\n",
      "\n",
      "- Model validation - test on past prophetic outcomes.\n",
      "- Adjust life tables instead of ages, or use specific life tables for each individual."
     ]
    }
   ],
   "metadata": {}
  }
 ]
}