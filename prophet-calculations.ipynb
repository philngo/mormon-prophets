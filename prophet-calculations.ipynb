{
 "metadata": {
  "name": "",
  "signature": "sha256:fcd811ba6384d579651e4fcd463c133d565caf0413c4e2569ae811edae95d099"
 },
 "nbformat": 3,
 "nbformat_minor": 0,
 "worksheets": [
  {
   "cells": [
    {
     "cell_type": "markdown",
     "metadata": {},
     "source": [
      "#Who will be the next Mormon prophet?\n",
      "\n",
      "It just so happens that there's a a convenient pattern to whom is usually called to be the next prophet of *The Church of Jesus Christ of Latter-day Saints*. For most of the 20th century and all of the 21st century so far, the pattern has been that the prophet of the church is the most senior apostle (by date of calling to the Quorum of the Twelve) becomes the prophet when the previous prophet dies. There are 15 of these apostles at any given time: three in the \"First Presidency\", comprising the prophet and his two counselors, and twelve in the Quorum of the Twelve Apostles.\n",
      "\n",
      "Given the ages of the apostles and some average actuarial life tables (which we use here despite knowing that these men are generally far healthier than the average population), we can fairly easily calculate the likely age of death of the current apostles and rank them by seniority to find some likely scenarios for new prophets."
     ]
    },
    {
     "cell_type": "code",
     "collapsed": false,
     "input": [
      "%matplotlib inline\n",
      "\n",
      "import matplotlib.pyplot as plt\n",
      "import numpy as np\n",
      "import pandas as pd\n",
      "from datetime import datetime\n",
      "from collections import defaultdict"
     ],
     "language": "python",
     "metadata": {},
     "outputs": [],
     "prompt_number": 1
    },
    {
     "cell_type": "markdown",
     "metadata": {},
     "source": [
      "Here we load some actuarial life tables which give the population-level probability of death at any particular age."
     ]
    },
    {
     "cell_type": "code",
     "collapsed": false,
     "input": [
      "full_life_table = pd.read_csv('data/life_table.csv')\n",
      "full_life_table.set_index('Age',inplace=True)\n",
      "\n",
      "full_life_table[80:90]"
     ],
     "language": "python",
     "metadata": {},
     "outputs": [
      {
       "html": [
        "<div style=\"max-height:1000px;max-width:1500px;overflow:auto;\">\n",
        "<table border=\"1\" class=\"dataframe\">\n",
        "  <thead>\n",
        "    <tr style=\"text-align: right;\">\n",
        "      <th></th>\n",
        "      <th>M</th>\n",
        "      <th>F</th>\n",
        "    </tr>\n",
        "    <tr>\n",
        "      <th>Age</th>\n",
        "      <th></th>\n",
        "      <th></th>\n",
        "    </tr>\n",
        "  </thead>\n",
        "  <tbody>\n",
        "    <tr>\n",
        "      <th>80</th>\n",
        "      <td> 0.061620</td>\n",
        "      <td> 0.043899</td>\n",
        "    </tr>\n",
        "    <tr>\n",
        "      <th>81</th>\n",
        "      <td> 0.068153</td>\n",
        "      <td> 0.048807</td>\n",
        "    </tr>\n",
        "    <tr>\n",
        "      <th>82</th>\n",
        "      <td> 0.075349</td>\n",
        "      <td> 0.054374</td>\n",
        "    </tr>\n",
        "    <tr>\n",
        "      <th>83</th>\n",
        "      <td> 0.083230</td>\n",
        "      <td> 0.060661</td>\n",
        "    </tr>\n",
        "    <tr>\n",
        "      <th>84</th>\n",
        "      <td> 0.091933</td>\n",
        "      <td> 0.067751</td>\n",
        "    </tr>\n",
        "    <tr>\n",
        "      <th>85</th>\n",
        "      <td> 0.101625</td>\n",
        "      <td> 0.075729</td>\n",
        "    </tr>\n",
        "    <tr>\n",
        "      <th>86</th>\n",
        "      <td> 0.112448</td>\n",
        "      <td> 0.084673</td>\n",
        "    </tr>\n",
        "    <tr>\n",
        "      <th>87</th>\n",
        "      <td> 0.124502</td>\n",
        "      <td> 0.094645</td>\n",
        "    </tr>\n",
        "    <tr>\n",
        "      <th>88</th>\n",
        "      <td> 0.137837</td>\n",
        "      <td> 0.105694</td>\n",
        "    </tr>\n",
        "    <tr>\n",
        "      <th>89</th>\n",
        "      <td> 0.152458</td>\n",
        "      <td> 0.117853</td>\n",
        "    </tr>\n",
        "  </tbody>\n",
        "</table>\n",
        "<p>10 rows \u00d7 2 columns</p>\n",
        "</div>"
       ],
       "metadata": {},
       "output_type": "pyout",
       "prompt_number": 2,
       "text": [
        "            M         F\n",
        "Age                    \n",
        "80   0.061620  0.043899\n",
        "81   0.068153  0.048807\n",
        "82   0.075349  0.054374\n",
        "83   0.083230  0.060661\n",
        "84   0.091933  0.067751\n",
        "85   0.101625  0.075729\n",
        "86   0.112448  0.084673\n",
        "87   0.124502  0.094645\n",
        "88   0.137837  0.105694\n",
        "89   0.152458  0.117853\n",
        "\n",
        "[10 rows x 2 columns]"
       ]
      }
     ],
     "prompt_number": 2
    },
    {
     "cell_type": "code",
     "collapsed": false,
     "input": [
      "# grab the values for the \"Male\" column\n",
      "prob_death = full_life_table.M.values"
     ],
     "language": "python",
     "metadata": {},
     "outputs": [],
     "prompt_number": 3
    },
    {
     "cell_type": "markdown",
     "metadata": {},
     "source": [
      "It would be slightly more convient to work with these values if we knew, for a man of any particular age, the probability of being alive at any age. We calculate a new life table which has along each row $x$ the probability that a man of age $x$ will live to reach age $y$."
     ]
    },
    {
     "cell_type": "code",
     "collapsed": false,
     "input": [
      "# Create a new life table\n",
      "l = len(prob_death)\n",
      "life_table = np.ones((l,l))\n",
      "for i in range(0,l,1):\n",
      "    for j in range(i,l,1):\n",
      "        life_table[i][j]=np.prod(1 - prob_death[i:j+1])"
     ],
     "language": "python",
     "metadata": {},
     "outputs": [],
     "prompt_number": 4
    },
    {
     "cell_type": "code",
     "collapsed": false,
     "input": [
      "# Load current apostle ages and seniority\n",
      "apostle_data = pd.read_csv('data/apostles.csv')\n",
      "apostle_data"
     ],
     "language": "python",
     "metadata": {},
     "outputs": [
      {
       "html": [
        "<div style=\"max-height:1000px;max-width:1500px;overflow:auto;\">\n",
        "<table border=\"1\" class=\"dataframe\">\n",
        "  <thead>\n",
        "    <tr style=\"text-align: right;\">\n",
        "      <th></th>\n",
        "      <th>Name</th>\n",
        "      <th>Birth</th>\n",
        "      <th>Twelve</th>\n",
        "      <th>Ordained</th>\n",
        "      <th>Seniority</th>\n",
        "    </tr>\n",
        "  </thead>\n",
        "  <tbody>\n",
        "    <tr>\n",
        "      <th>0 </th>\n",
        "      <td>       Thomas S. Monson</td>\n",
        "      <td> 08/21/1927</td>\n",
        "      <td> 10/04/1963</td>\n",
        "      <td> 10/10/1963</td>\n",
        "      <td>  1</td>\n",
        "    </tr>\n",
        "    <tr>\n",
        "      <th>1 </th>\n",
        "      <td>         Boyd K. Packer</td>\n",
        "      <td> 09/10/1924</td>\n",
        "      <td> 04/06/1970</td>\n",
        "      <td> 04/09/1970</td>\n",
        "      <td>  2</td>\n",
        "    </tr>\n",
        "    <tr>\n",
        "      <th>2 </th>\n",
        "      <td>           L. Tom Perry</td>\n",
        "      <td> 08/05/1922</td>\n",
        "      <td> 04/06/1974</td>\n",
        "      <td> 04/11/1974</td>\n",
        "      <td>  3</td>\n",
        "    </tr>\n",
        "    <tr>\n",
        "      <th>3 </th>\n",
        "      <td>      Russell M. Nelson</td>\n",
        "      <td> 09/09/1924</td>\n",
        "      <td> 04/07/1984</td>\n",
        "      <td> 04/12/1984</td>\n",
        "      <td>  4</td>\n",
        "    </tr>\n",
        "    <tr>\n",
        "      <th>4 </th>\n",
        "      <td>         Dallin H. Oaks</td>\n",
        "      <td> 08/12/1932</td>\n",
        "      <td> 04/07/1984</td>\n",
        "      <td> 05/03/1984</td>\n",
        "      <td>  5</td>\n",
        "    </tr>\n",
        "    <tr>\n",
        "      <th>5 </th>\n",
        "      <td>     M. Russell Ballard</td>\n",
        "      <td> 10/08/1928</td>\n",
        "      <td> 10/06/1985</td>\n",
        "      <td> 10/10/1985</td>\n",
        "      <td>  6</td>\n",
        "    </tr>\n",
        "    <tr>\n",
        "      <th>6 </th>\n",
        "      <td>       Richard G. Scott</td>\n",
        "      <td> 11/07/1928</td>\n",
        "      <td> 10/01/1988</td>\n",
        "      <td> 10/06/1988</td>\n",
        "      <td>  7</td>\n",
        "    </tr>\n",
        "    <tr>\n",
        "      <th>7 </th>\n",
        "      <td>        Robert D. Hales</td>\n",
        "      <td> 08/24/1932</td>\n",
        "      <td> 04/07/1994</td>\n",
        "      <td> 04/07/1994</td>\n",
        "      <td>  8</td>\n",
        "    </tr>\n",
        "    <tr>\n",
        "      <th>8 </th>\n",
        "      <td>     Jeffrey R. Holland</td>\n",
        "      <td> 12/03/1940</td>\n",
        "      <td> 06/23/1994</td>\n",
        "      <td> 06/23/1994</td>\n",
        "      <td>  9</td>\n",
        "    </tr>\n",
        "    <tr>\n",
        "      <th>9 </th>\n",
        "      <td>        Henry B. Eyring</td>\n",
        "      <td> 05/31/1933</td>\n",
        "      <td> 04/01/1995</td>\n",
        "      <td> 04/01/1995</td>\n",
        "      <td> 10</td>\n",
        "    </tr>\n",
        "    <tr>\n",
        "      <th>10</th>\n",
        "      <td>     Dieter F. Uchtdorf</td>\n",
        "      <td> 11/06/1940</td>\n",
        "      <td> 10/02/2004</td>\n",
        "      <td> 10/07/2004</td>\n",
        "      <td> 11</td>\n",
        "    </tr>\n",
        "    <tr>\n",
        "      <th>11</th>\n",
        "      <td>        David A. Bednar</td>\n",
        "      <td> 06/15/1952</td>\n",
        "      <td> 10/07/2004</td>\n",
        "      <td> 10/07/2004</td>\n",
        "      <td> 12</td>\n",
        "    </tr>\n",
        "    <tr>\n",
        "      <th>12</th>\n",
        "      <td>        Quentin L. Cook</td>\n",
        "      <td> 09/08/1940</td>\n",
        "      <td> 10/06/2007</td>\n",
        "      <td> 10/11/2007</td>\n",
        "      <td> 13</td>\n",
        "    </tr>\n",
        "    <tr>\n",
        "      <th>13</th>\n",
        "      <td> D. Todd Christofferson</td>\n",
        "      <td> 01/24/1945</td>\n",
        "      <td> 04/05/2008</td>\n",
        "      <td> 04/10/2008</td>\n",
        "      <td> 14</td>\n",
        "    </tr>\n",
        "    <tr>\n",
        "      <th>14</th>\n",
        "      <td>       Neil L. Andersen</td>\n",
        "      <td> 08/09/1951</td>\n",
        "      <td> 04/04/2009</td>\n",
        "      <td> 04/09/2009</td>\n",
        "      <td> 15</td>\n",
        "    </tr>\n",
        "  </tbody>\n",
        "</table>\n",
        "<p>15 rows \u00d7 5 columns</p>\n",
        "</div>"
       ],
       "metadata": {},
       "output_type": "pyout",
       "prompt_number": 5,
       "text": [
        "                      Name       Birth      Twelve    Ordained  Seniority\n",
        "0         Thomas S. Monson  08/21/1927  10/04/1963  10/10/1963          1\n",
        "1           Boyd K. Packer  09/10/1924  04/06/1970  04/09/1970          2\n",
        "2             L. Tom Perry  08/05/1922  04/06/1974  04/11/1974          3\n",
        "3        Russell M. Nelson  09/09/1924  04/07/1984  04/12/1984          4\n",
        "4           Dallin H. Oaks  08/12/1932  04/07/1984  05/03/1984          5\n",
        "5       M. Russell Ballard  10/08/1928  10/06/1985  10/10/1985          6\n",
        "6         Richard G. Scott  11/07/1928  10/01/1988  10/06/1988          7\n",
        "7          Robert D. Hales  08/24/1932  04/07/1994  04/07/1994          8\n",
        "8       Jeffrey R. Holland  12/03/1940  06/23/1994  06/23/1994          9\n",
        "9          Henry B. Eyring  05/31/1933  04/01/1995  04/01/1995         10\n",
        "10      Dieter F. Uchtdorf  11/06/1940  10/02/2004  10/07/2004         11\n",
        "11         David A. Bednar  06/15/1952  10/07/2004  10/07/2004         12\n",
        "12         Quentin L. Cook  09/08/1940  10/06/2007  10/11/2007         13\n",
        "13  D. Todd Christofferson  01/24/1945  04/05/2008  04/10/2008         14\n",
        "14        Neil L. Andersen  08/09/1951  04/04/2009  04/09/2009         15\n",
        "\n",
        "[15 rows x 5 columns]"
       ]
      }
     ],
     "prompt_number": 5
    },
    {
     "cell_type": "markdown",
     "metadata": {},
     "source": [
      "### Helper class\n",
      "\n",
      "For programming convenience, this class captures some simple calculations we will need to do for each prophet."
     ]
    },
    {
     "cell_type": "code",
     "collapsed": false,
     "input": [
      "class Apostle:\n",
      "    def __init__(self,name,birth,twelve,ordained,seniority):\n",
      "        self.name=name\n",
      "        self.birth=datetime.strptime(birth,'%m/%d/%Y')\n",
      "        self.twelve=datetime.strptime(twelve,'%m/%d/%Y')\n",
      "        self.ordained=datetime.strptime(ordained,'%m/%d/%Y')\n",
      "        self.seniority=seniority\n",
      "    \n",
      "    def __str__(self):\n",
      "        return \"Apostle ({})\".format(self.name)\n",
      "    \n",
      "    def age(self,year):\n",
      "        \"\"\"Return the apostle's age in a particular year.\"\"\"\n",
      "        return year-self.birth.year\n",
      "    \n",
      "    def current_age(self):\n",
      "        \"\"\"Return the apostle's age in the current year.\"\"\"\n",
      "        current_year = datetime.now().year\n",
      "        return self.age(current_year)\n",
      "    \n",
      "    def most_probable_death_year(self,life_table):\n",
      "        \"\"\"Return the apostle's most likely year of death given\n",
      "        a particular life table.\"\"\"\n",
      "        current_age = self.current_age()\n",
      "        age_of_death = np.argmax(life_table[current_age]<.5)\n",
      "        return self.birth.year + age_of_death\n",
      "    \n",
      "    def most_probable_life_state(self,year,life_table):\n",
      "        \"\"\"Return True if, given the most probable year of death,\n",
      "        the apostle is alive in any part of a particular year\n",
      "        given a particular life table.\"\"\"\n",
      "        return year <= self.most_probable_death_year(life_table)\n",
      "    \n",
      "    def simulate_death_year(self,life_table):\n",
      "        \"\"\"Return a death year randomly drawn from the distribution\n",
      "        of likely death years given a particular life table.\"\"\"\n",
      "        death_year = np.argmin(life_table[self.current_age()] > np.random.random(len(life_table[0])))\n",
      "        return self.birth.year + death_year\n",
      "    \n",
      "    def simulate_life_state(self,year,life_table):\n",
      "        \"\"\"Return True if the apostle is alive given a year of death\n",
      "        drawn from the distribution of likely death years given\n",
      "        by a particular life table.\"\"\"\n",
      "        life_state = self.simulate_death_year(life_table)\n",
      "        return year <= self.simulate_death_year(life_table)\n",
      "        "
     ],
     "language": "python",
     "metadata": {},
     "outputs": [],
     "prompt_number": 6
    },
    {
     "cell_type": "code",
     "collapsed": false,
     "input": [
      "# Create apostle objects and print their ages\n",
      "apostles = []\n",
      "for i,row in apostle_data.iterrows():\n",
      "    apostle = Apostle(row.Name,row.Birth,row.Twelve,row.Ordained,row.Seniority)\n",
      "    apostles.append(apostle)\n",
      "    print \"{} is {} years old\".format(apostle.name,apostle.current_age())\n",
      "    "
     ],
     "language": "python",
     "metadata": {},
     "outputs": [
      {
       "output_type": "stream",
       "stream": "stdout",
       "text": [
        "Thomas S. Monson is 87 years old\n",
        "Boyd K. Packer is 90 years old\n",
        "L. Tom Perry is 92 years old\n",
        "Russell M. Nelson is 90 years old\n",
        "Dallin H. Oaks is 82 years old\n",
        "M. Russell Ballard is 86 years old\n",
        "Richard G. Scott is 86 years old\n",
        "Robert D. Hales is 82 years old\n",
        "Jeffrey R. Holland is 74 years old\n",
        "Henry B. Eyring is 81 years old\n",
        "Dieter F. Uchtdorf is 74 years old\n",
        "David A. Bednar is 62 years old\n",
        "Quentin L. Cook is 74 years old\n",
        "D. Todd Christofferson is 69 years old\n",
        "Neil L. Andersen is 63 years old\n"
       ]
      }
     ],
     "prompt_number": 7
    },
    {
     "cell_type": "markdown",
     "metadata": {},
     "source": [
      "### Methodology\n",
      "Now we define two more functions to help us calculate who is prophet in a particular year.\n",
      "Each of these functions uses a different method to calculate who will be prophet:\n",
      "\n",
      "#### Method 1: Winner takes all\n",
      "The simplest method simply calculates which year each apostle is likely to die in (by\n",
      "taking the first year they are more likely to be dead than alive) and returns the most\n",
      "senior living apostle who is more likely to be alive than dead.\n",
      "\n",
      "#### Method 2: Monte-Carlo simulation\n",
      "A slightly more interesting (and more robust) method runs a simulation for each apostle,\n",
      "making draws from the whole distribution of probable years of death. If we run this\n",
      "simulation many many times, we will end up with estimates of the probability that each\n",
      "apostle will be prophet in any particular year. This method will end up giving us a\n",
      "clearer picture than the winner takes all method."
     ]
    },
    {
     "cell_type": "code",
     "collapsed": false,
     "input": [
      "# define some helper functions for calculating who is prophet in a particular year\n",
      "# using two different methods\n",
      "\n",
      "def most_probable_prophet_in_year(apostles,year,life_table):\n",
      "    \"\"\"Return the apostle (given a list of apostles) most likely\n",
      "    to be prophet in a particular year\"\"\"\n",
      "    apostles_alive = [apostle for apostle in apostles\n",
      "                      if apostle.most_probable_life_state(year,life_table)]\n",
      "    \n",
      "    if len(apostles_alive) == 0:\n",
      "        return None\n",
      "    \n",
      "    apostle_index = np.argmin([apostle.seniority for apostle in apostles_alive])\n",
      "    return apostles_alive[apostle_index]\n",
      "\n",
      "def simulate_prophet_in_year(apostles,year,life_table):\n",
      "    \"\"\"Return the apostle (given a list of apostles) who is prophet\n",
      "    in a particular year after simulating each apostle's life state\n",
      "    in the given year.\"\"\"\n",
      "    apostles_alive = [apostle for apostle in apostles\n",
      "                      if apostle.simulate_life_state(year,life_table)]\n",
      "    if len(apostles_alive) == 0:\n",
      "        return None\n",
      "    \n",
      "    apostle_index = np.argmin([apostle.seniority for apostle in apostles_alive])\n",
      "    return apostles_alive[apostle_index]"
     ],
     "language": "python",
     "metadata": {},
     "outputs": [],
     "prompt_number": 8
    },
    {
     "cell_type": "code",
     "collapsed": false,
     "input": [
      "# Plot a histogram of each apostle's likely death years\n",
      "for apostle in apostles:\n",
      "    death_year_dist = []\n",
      "    for i in range(10000):\n",
      "        death_year_dist.append(apostle.simulate_death_year(life_table))\n",
      "\n",
      "    plt.hist(death_year_dist,bins=range(2014,2040))\n",
      "    plt.title(\"Histogram of year of death of {}\".format(apostle.name))\n",
      "    plt.show()"
     ],
     "language": "python",
     "metadata": {},
     "outputs": [
      {
       "metadata": {},
       "output_type": "display_data",
       "png": "[encoded data removed]",
       "text": [
        "<matplotlib.figure.Figure at 0x113523c90>"
       ]
      },
      {
       "metadata": {},
       "output_type": "display_data",
       "png": "[encoded data removed]",
       "text": [
        "<matplotlib.figure.Figure at 0x115784cd0>"
       ]
      },
      {
       "metadata": {},
       "output_type": "display_data",
       "png": "[encoded data removed]",
       "text": [
        "<matplotlib.figure.Figure at 0x115826690>"
       ]
      },
      {
       "metadata": {},
       "output_type": "display_data",
       "png": "[encoded data removed]",
       "text": [
        "<matplotlib.figure.Figure at 0x11370fe90>"
       ]
      },
      {
       "metadata": {},
       "output_type": "display_data",
       "png": "[encoded data removed]",
       "text": [
        "<matplotlib.figure.Figure at 0x1157d5850>"
       ]
      },
      {
       "metadata": {},
       "output_type": "display_data",
       "png": "[encoded data removed]",
       "text": [
        "<matplotlib.figure.Figure at 0x1137112d0>"
       ]
      },
      {
       "metadata": {},
       "output_type": "display_data",
       "png": "[encoded data removed]",
       "text": [
        "<matplotlib.figure.Figure at 0x1157fb590>"
       ]
      },
      {
       "metadata": {},
       "output_type": "display_data",
       "png": "[encoded data removed]",
       "text": [
        "<matplotlib.figure.Figure at 0x113712610>"
       ]
      },
      {
       "metadata": {},
       "output_type": "display_data",
       "png": "[encoded data removed]",
       "text": [
        "<matplotlib.figure.Figure at 0x11580ea50>"
       ]
      },
      {
       "metadata": {},
       "output_type": "display_data",
       "png": "[encoded data removed]",
       "text": [
        "<matplotlib.figure.Figure at 0x10cbd0810>"
       ]
      },
      {
       "metadata": {},
       "output_type": "display_data",
       "png": "[encoded data removed]",
       "text": [
        "<matplotlib.figure.Figure at 0x111e44890>"
       ]
      },
      {
       "metadata": {},
       "output_type": "display_data",
       "png": "[encoded data removed]",
       "text": [
        "<matplotlib.figure.Figure at 0x113724b10>"
       ]
      },
      {
       "metadata": {},
       "output_type": "display_data",
       "png": "[encoded data removed]",
       "text": [
        "<matplotlib.figure.Figure at 0x111e44890>"
       ]
      },
      {
       "metadata": {},
       "output_type": "display_data",
       "png": "[encoded data removed]",
       "text": [
        "<matplotlib.figure.Figure at 0x111e44810>"
       ]
      },
      {
       "metadata": {},
       "output_type": "display_data",
       "png": "[encoded data removed]",
       "text": [
        "<matplotlib.figure.Figure at 0x11351cf10>"
       ]
      }
     ],
     "prompt_number": 9
    },
    {
     "cell_type": "code",
     "collapsed": false,
     "input": [
      "# Given our model, who is most likely to be prophet in the year 2020?\n",
      "print most_probable_prophet_in_year(apostles,2020,life_table)"
     ],
     "language": "python",
     "metadata": {},
     "outputs": [
      {
       "output_type": "stream",
       "stream": "stdout",
       "text": [
        "Apostle (Dallin H. Oaks)\n"
       ]
      }
     ],
     "prompt_number": 10
    },
    {
     "cell_type": "code",
     "collapsed": false,
     "input": [
      "# Given our model, who is most likely to be prophet in every year from now until 2040?\n",
      "for year in range(2014,2040):\n",
      "    print most_probable_prophet_in_year(apostles,year,life_table)"
     ],
     "language": "python",
     "metadata": {},
     "outputs": [
      {
       "output_type": "stream",
       "stream": "stdout",
       "text": [
        "Apostle (Thomas S. Monson)\n",
        "Apostle (Thomas S. Monson)\n",
        "Apostle (Thomas S. Monson)\n",
        "Apostle (Thomas S. Monson)\n",
        "Apostle (Thomas S. Monson)\n",
        "Apostle (Dallin H. Oaks)\n",
        "Apostle (Dallin H. Oaks)\n",
        "Apostle (Jeffrey R. Holland)\n",
        "Apostle (Jeffrey R. Holland)\n",
        "Apostle (Jeffrey R. Holland)\n",
        "Apostle (Jeffrey R. Holland)\n",
        "Apostle (Jeffrey R. Holland)\n",
        "Apostle (David A. Bednar)\n",
        "Apostle (David A. Bednar)\n",
        "Apostle (David A. Bednar)\n",
        "Apostle (David A. Bednar)\n",
        "Apostle (David A. Bednar)\n",
        "Apostle (David A. Bednar)\n",
        "Apostle (David A. Bednar)\n",
        "Apostle (David A. Bednar)\n",
        "Apostle (David A. Bednar)\n",
        "None\n",
        "None\n",
        "None\n",
        "None\n",
        "None\n"
       ]
      }
     ],
     "prompt_number": 11
    },
    {
     "cell_type": "markdown",
     "metadata": {},
     "source": [
      "### Simulation:\n",
      "\n",
      "What if we looked at the probabilities over 10000 trials? This would give us a\n",
      "more accurate picture of how likely it is that any of the current apostles\n",
      "will be prophet in any particular year. Note that it is possible (and probable)\n",
      "that in some of the later years none of the current apostles will be alive. In\n",
      "these cases, I have assigned a probability of prophethood to \"other\"."
     ]
    },
    {
     "cell_type": "code",
     "collapsed": false,
     "input": [
      "n_trials = 10000\n",
      "for year in range(2014,2040):\n",
      "    prophets = defaultdict(list)\n",
      "    for i in range(n_trials):\n",
      "        prophet = simulate_prophet_in_year(apostles,year,life_table)\n",
      "        if prophet is not None:\n",
      "            prophets[prophet.name].append(1)\n",
      "        else:\n",
      "            prophets[\"other\"].append(1)\n",
      "    probabilities = []\n",
      "    for key,count in prophets.items():\n",
      "        probabilities.append((key,float(len(count))/n_trials))\n",
      "    probabilities = sorted(probabilities,key=lambda x: x[1],reverse=True)\n",
      "    print year\n",
      "    for name,probability in probabilities:\n",
      "        print \" {} ({})\".format(name,probability)\n",
      "    print\n",
      "        "
     ],
     "language": "python",
     "metadata": {},
     "outputs": [
      {
       "output_type": "stream",
       "stream": "stdout",
       "text": [
        "2014\n",
        " Thomas S. Monson (1.0)\n",
        "\n",
        "2015"
       ]
      },
      {
       "output_type": "stream",
       "stream": "stdout",
       "text": [
        "\n",
        " Thomas S. Monson (0.8751)\n",
        " Boyd K. Packer (0.1055)\n",
        " L. Tom Perry (0.015)\n",
        " Russell M. Nelson (0.0036)\n",
        " Dallin H. Oaks (0.0007)\n",
        " M. Russell Ballard (0.0001)\n",
        "\n",
        "2016"
       ]
      },
      {
       "output_type": "stream",
       "stream": "stdout",
       "text": [
        "\n",
        " Thomas S. Monson (0.652)\n",
        " Boyd K. Packer (0.1951)\n",
        " L. Tom Perry (0.0756)\n",
        " Russell M. Nelson (0.0446)\n",
        " Dallin H. Oaks (0.026)\n",
        " M. Russell Ballard (0.0041)\n",
        " Richard G. Scott (0.002)\n",
        " Robert D. Hales (0.0005)\n",
        " Jeffrey R. Holland (0.0001)\n",
        "\n",
        "2017"
       ]
      },
      {
       "output_type": "stream",
       "stream": "stdout",
       "text": [
        "\n",
        " Thomas S. Monson (0.4235)\n",
        " Boyd K. Packer (0.1763)\n",
        " Dallin H. Oaks (0.1274)\n",
        " L. Tom Perry (0.0957)\n",
        " Russell M. Nelson (0.0924)\n",
        " M. Russell Ballard (0.0381)\n",
        " Richard G. Scott (0.0218)\n",
        " Robert D. Hales (0.0153)\n",
        " Jeffrey R. Holland (0.0076)\n",
        " Henry B. Eyring (0.0012)\n",
        " Dieter F. Uchtdorf (0.0006)\n",
        " David A. Bednar (0.0001)\n",
        "\n",
        "2018"
       ]
      },
      {
       "output_type": "stream",
       "stream": "stdout",
       "text": [
        "\n",
        " Thomas S. Monson (0.231)\n",
        " Dallin H. Oaks (0.2239)\n",
        " Boyd K. Packer (0.1026)\n",
        " M. Russell Ballard (0.0798)\n",
        " Russell M. Nelson (0.078)\n",
        " Robert D. Hales (0.0711)\n",
        " Jeffrey R. Holland (0.0682)\n",
        " Richard G. Scott (0.0603)\n",
        " L. Tom Perry (0.0533)\n",
        " Henry B. Eyring (0.0157)\n",
        " Dieter F. Uchtdorf (0.0101)\n",
        " David A. Bednar (0.0054)\n",
        " Quentin L. Cook (0.0004)\n",
        " D. Todd Christofferson (0.0002)\n",
        "\n",
        "2019"
       ]
      },
      {
       "output_type": "stream",
       "stream": "stdout",
       "text": [
        "\n",
        " Dallin H. Oaks (0.2048)\n",
        " Jeffrey R. Holland (0.187)\n",
        " Robert D. Hales (0.1206)\n",
        " Thomas S. Monson (0.0999)\n",
        " M. Russell Ballard (0.0785)\n",
        " Richard G. Scott (0.0644)\n",
        " Dieter F. Uchtdorf (0.063)\n",
        " Henry B. Eyring (0.0458)\n",
        " David A. Bednar (0.0418)\n",
        " Boyd K. Packer (0.0348)\n",
        " Russell M. Nelson (0.0331)\n",
        " L. Tom Perry (0.0166)\n",
        " Quentin L. Cook (0.0058)\n",
        " D. Todd Christofferson (0.0025)\n",
        " Neil L. Andersen (0.0012)\n",
        " other (0.0002)\n",
        "\n",
        "2020"
       ]
      },
      {
       "output_type": "stream",
       "stream": "stdout",
       "text": [
        "\n",
        " Jeffrey R. Holland (0.2624)\n",
        " David A. Bednar (0.1354)\n",
        " Dieter F. Uchtdorf (0.131)\n",
        " Dallin H. Oaks (0.1275)\n",
        " Robert D. Hales (0.0997)\n",
        " Henry B. Eyring (0.0634)\n",
        " M. Russell Ballard (0.0402)\n",
        " Richard G. Scott (0.0381)\n",
        " Thomas S. Monson (0.0338)\n",
        " Quentin L. Cook (0.0227)\n",
        " D. Todd Christofferson (0.016)\n",
        " Boyd K. Packer (0.0082)\n",
        " Russell M. Nelson (0.0078)\n",
        " Neil L. Andersen (0.0072)\n",
        " other (0.0035)\n",
        " L. Tom Perry (0.0031)\n",
        "\n",
        "2021"
       ]
      },
      {
       "output_type": "stream",
       "stream": "stdout",
       "text": [
        "\n",
        " Jeffrey R. Holland (0.2488)\n",
        " David A. Bednar (0.2481)\n",
        " Dieter F. Uchtdorf (0.1575)\n",
        " Dallin H. Oaks (0.0634)\n",
        " Robert D. Hales (0.055)\n",
        " Henry B. Eyring (0.0488)\n",
        " D. Todd Christofferson (0.0438)\n",
        " Quentin L. Cook (0.0411)\n",
        " Neil L. Andersen (0.033)\n",
        " other (0.0192)\n",
        " M. Russell Ballard (0.0151)\n",
        " Richard G. Scott (0.012)\n",
        " Thomas S. Monson (0.0093)\n",
        " Boyd K. Packer (0.0022)\n",
        " Russell M. Nelson (0.0021)\n",
        " L. Tom Perry (0.0006)\n",
        "\n",
        "2022"
       ]
      },
      {
       "output_type": "stream",
       "stream": "stdout",
       "text": [
        "\n",
        " David A. Bednar (0.3291)\n",
        " Jeffrey R. Holland (0.1879)\n",
        " Dieter F. Uchtdorf (0.1415)\n",
        " D. Todd Christofferson (0.0763)\n",
        " Neil L. Andersen (0.07)\n",
        " other (0.0614)\n",
        " Quentin L. Cook (0.0506)\n",
        " Henry B. Eyring (0.0273)\n",
        " Dallin H. Oaks (0.0237)\n",
        " Robert D. Hales (0.0234)\n",
        " M. Russell Ballard (0.0039)\n",
        " Richard G. Scott (0.0031)\n",
        " Thomas S. Monson (0.0013)\n",
        " Boyd K. Packer (0.0003)\n",
        " Russell M. Nelson (0.0002)\n",
        "\n",
        "2023"
       ]
      },
      {
       "output_type": "stream",
       "stream": "stdout",
       "text": [
        "\n",
        " David A. Bednar (0.368)\n",
        " other (0.1346)\n",
        " Jeffrey R. Holland (0.1193)\n",
        " Neil L. Andersen (0.1123)\n",
        " Dieter F. Uchtdorf (0.1038)\n",
        " D. Todd Christofferson (0.0898)\n",
        " Quentin L. Cook (0.0463)\n",
        " Henry B. Eyring (0.0099)\n",
        " Dallin H. Oaks (0.0076)\n",
        " Robert D. Hales (0.0074)\n",
        " M. Russell Ballard (0.0004)\n",
        " Richard G. Scott (0.0004)\n",
        " Thomas S. Monson (0.0002)\n",
        "\n",
        "2024"
       ]
      },
      {
       "output_type": "stream",
       "stream": "stdout",
       "text": [
        "\n",
        " David A. Bednar (0.3413)\n",
        " other (0.2434)\n",
        " Neil L. Andersen (0.1436)\n",
        " D. Todd Christofferson (0.0946)\n",
        " Jeffrey R. Holland (0.0701)\n",
        " Dieter F. Uchtdorf (0.0645)\n",
        " Quentin L. Cook (0.0343)\n",
        " Henry B. Eyring (0.0029)\n",
        " Dallin H. Oaks (0.0028)\n",
        " Robert D. Hales (0.0024)\n",
        " M. Russell Ballard (0.0001)\n",
        "\n",
        "2025"
       ]
      },
      {
       "output_type": "stream",
       "stream": "stdout",
       "text": [
        "\n",
        " other (0.3839)\n",
        " David A. Bednar (0.2962)\n",
        " Neil L. Andersen (0.1539)\n",
        " D. Todd Christofferson (0.0748)\n",
        " Jeffrey R. Holland (0.035)\n",
        " Dieter F. Uchtdorf (0.032)\n",
        " Quentin L. Cook (0.0219)\n",
        " Henry B. Eyring (0.0013)\n",
        " Robert D. Hales (0.0005)\n",
        " Dallin H. Oaks (0.0004)\n",
        " Richard G. Scott (0.0001)\n",
        "\n",
        "2026"
       ]
      },
      {
       "output_type": "stream",
       "stream": "stdout",
       "text": [
        "\n",
        " other (0.5116)\n",
        " David A. Bednar (0.2404)\n",
        " Neil L. Andersen (0.1504)\n",
        " D. Todd Christofferson (0.0521)\n",
        " Jeffrey R. Holland (0.0164)\n",
        " Dieter F. Uchtdorf (0.0163)\n",
        " Quentin L. Cook (0.0123)\n",
        " Henry B. Eyring (0.0003)\n",
        " Dallin H. Oaks (0.0001)\n",
        " Robert D. Hales (0.0001)\n",
        "\n",
        "2027"
       ]
      },
      {
       "output_type": "stream",
       "stream": "stdout",
       "text": [
        "\n",
        " other (0.637)\n",
        " David A. Bednar (0.185)\n",
        " Neil L. Andersen (0.1226)\n",
        " D. Todd Christofferson (0.0358)\n",
        " Jeffrey R. Holland (0.008)\n",
        " Dieter F. Uchtdorf (0.0065)\n",
        " Quentin L. Cook (0.0051)\n",
        "\n",
        "2028"
       ]
      },
      {
       "output_type": "stream",
       "stream": "stdout",
       "text": [
        "\n",
        " other (0.7534)\n",
        " David A. Bednar (0.1294)\n",
        " Neil L. Andersen (0.0894)\n",
        " D. Todd Christofferson (0.0198)\n",
        " Dieter F. Uchtdorf (0.0028)\n",
        " Quentin L. Cook (0.0028)\n",
        " Jeffrey R. Holland (0.0024)\n",
        "\n",
        "2029"
       ]
      },
      {
       "output_type": "stream",
       "stream": "stdout",
       "text": [
        "\n",
        " other (0.8261)\n",
        " David A. Bednar (0.0971)\n",
        " Neil L. Andersen (0.0653)\n",
        " D. Todd Christofferson (0.0097)\n",
        " Dieter F. Uchtdorf (0.0009)\n",
        " Quentin L. Cook (0.0005)\n",
        " Jeffrey R. Holland (0.0004)\n",
        "\n",
        "2030"
       ]
      },
      {
       "output_type": "stream",
       "stream": "stdout",
       "text": [
        "\n",
        " other (0.8846)\n",
        " David A. Bednar (0.0649)\n",
        " Neil L. Andersen (0.0444)\n",
        " D. Todd Christofferson (0.0054)\n",
        " Jeffrey R. Holland (0.0003)\n",
        " Quentin L. Cook (0.0003)\n",
        " Dieter F. Uchtdorf (0.0001)\n",
        "\n",
        "2031"
       ]
      },
      {
       "output_type": "stream",
       "stream": "stdout",
       "text": [
        "\n",
        " other (0.9373)\n",
        " David A. Bednar (0.0341)\n",
        " Neil L. Andersen (0.0257)\n",
        " D. Todd Christofferson (0.0028)\n",
        " Jeffrey R. Holland (0.0001)\n",
        "\n",
        "2032"
       ]
      },
      {
       "output_type": "stream",
       "stream": "stdout",
       "text": [
        "\n",
        " other (0.9641)\n",
        " David A. Bednar (0.0222)\n",
        " Neil L. Andersen (0.0136)\n",
        " D. Todd Christofferson (0.0001)\n",
        "\n",
        "2033"
       ]
      },
      {
       "output_type": "stream",
       "stream": "stdout",
       "text": [
        "\n",
        " other (0.9788)\n",
        " David A. Bednar (0.012)\n",
        " Neil L. Andersen (0.009)\n",
        " D. Todd Christofferson (0.0002)\n",
        "\n",
        "2034"
       ]
      },
      {
       "output_type": "stream",
       "stream": "stdout",
       "text": [
        "\n",
        " other (0.9905)\n",
        " David A. Bednar (0.0061)\n",
        " Neil L. Andersen (0.0034)\n",
        "\n",
        "2035"
       ]
      },
      {
       "output_type": "stream",
       "stream": "stdout",
       "text": [
        "\n",
        " other (0.9968)\n",
        " David A. Bednar (0.0021)\n",
        " Neil L. Andersen (0.0011)\n",
        "\n",
        "2036"
       ]
      },
      {
       "output_type": "stream",
       "stream": "stdout",
       "text": [
        "\n",
        " other (0.9981)\n",
        " David A. Bednar (0.0011)\n",
        " Neil L. Andersen (0.0008)\n",
        "\n",
        "2037"
       ]
      },
      {
       "output_type": "stream",
       "stream": "stdout",
       "text": [
        "\n",
        " other (0.9996)\n",
        " Neil L. Andersen (0.0003)\n",
        " David A. Bednar (0.0001)\n",
        "\n",
        "2038"
       ]
      },
      {
       "output_type": "stream",
       "stream": "stdout",
       "text": [
        "\n",
        " other (0.9999)\n",
        " Neil L. Andersen (0.0001)\n",
        "\n",
        "2039"
       ]
      },
      {
       "output_type": "stream",
       "stream": "stdout",
       "text": [
        "\n",
        " other (0.9999)\n",
        " David A. Bednar (0.0001)\n",
        "\n"
       ]
      }
     ],
     "prompt_number": 12
    },
    {
     "cell_type": "markdown",
     "metadata": {},
     "source": [
      "## Conclusions\n",
      "\n",
      "Interestingly, for many of the years far down the line, the apostle most likely to be prophet is far from clear.\n",
      "\n",
      "By 2026, only twelve years from now, our model says that it is more likely that someone other than one of the current apostles will be prophet. However, since our model systematically underestimates the age of death of these men, we should take this number with a grain of salt. By 2039, 25 years from now, it's extraordinarily unlikely that any of the current apostles will still be alive.\n",
      "\n",
      "## Caveats\n",
      "This model did not explicitly take health state into account, but approximated it using current age."
     ]
    }
   ],
   "metadata": {}
  }
 ]
}