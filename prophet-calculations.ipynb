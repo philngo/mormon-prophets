{
 "metadata": {
  "name": "",
  "signature": "sha256:e9a747c162006ebeb8d683e4c33d04138fdce62c94a5faf8f86a70723975553c"
 },
 "nbformat": 3,
 "nbformat_minor": 0,
 "worksheets": [
  {
   "cells": [
    {
     "cell_type": "code",
     "collapsed": false,
     "input": [
      "%matplotlib inline\n",
      "\n",
      "import matplotlib.pyplot as plt\n",
      "import numpy as np\n",
      "import pandas as pd\n",
      "from datetime import datetime\n",
      "from collections import defaultdict"
     ],
     "language": "python",
     "metadata": {},
     "outputs": [],
     "prompt_number": 1
    },
    {
     "cell_type": "code",
     "collapsed": false,
     "input": [
      "data = pd.read_csv('data/life_table.csv')\n",
      "data.set_index('Age',inplace=True)"
     ],
     "language": "python",
     "metadata": {},
     "outputs": [],
     "prompt_number": 2
    },
    {
     "cell_type": "code",
     "collapsed": false,
     "input": [
      "prob_death = data.M.values"
     ],
     "language": "python",
     "metadata": {},
     "outputs": [],
     "prompt_number": 3
    },
    {
     "cell_type": "code",
     "collapsed": false,
     "input": [
      "l = len(prob_death)\n",
      "life_table = np.ones((l,l))\n",
      "for i in range(0,l,1):\n",
      "    for j in range(i,l,1):\n",
      "        life_table[i][j]=np.prod(1 - prob_death[i:j+1])\n",
      "    "
     ],
     "language": "python",
     "metadata": {},
     "outputs": [],
     "prompt_number": 4
    },
    {
     "cell_type": "code",
     "collapsed": false,
     "input": [
      "apostle_data = pd.read_csv('data/apostles.csv')\n",
      "apostle_data.head()"
     ],
     "language": "python",
     "metadata": {},
     "outputs": [
      {
       "html": [
        "<div style=\"max-height:1000px;max-width:1500px;overflow:auto;\">\n",
        "<table border=\"1\" class=\"dataframe\">\n",
        "  <thead>\n",
        "    <tr style=\"text-align: right;\">\n",
        "      <th></th>\n",
        "      <th>Name</th>\n",
        "      <th>Birth</th>\n",
        "      <th>Twelve</th>\n",
        "      <th>Ordained</th>\n",
        "      <th>Seniority</th>\n",
        "    </tr>\n",
        "  </thead>\n",
        "  <tbody>\n",
        "    <tr>\n",
        "      <th>0</th>\n",
        "      <td>  Thomas S. Monson</td>\n",
        "      <td> 08/21/1927</td>\n",
        "      <td> 10/04/1963</td>\n",
        "      <td> 10/10/1963</td>\n",
        "      <td> 1</td>\n",
        "    </tr>\n",
        "    <tr>\n",
        "      <th>1</th>\n",
        "      <td>    Boyd K. Packer</td>\n",
        "      <td> 09/10/1924</td>\n",
        "      <td> 04/06/1970</td>\n",
        "      <td> 04/09/1970</td>\n",
        "      <td> 2</td>\n",
        "    </tr>\n",
        "    <tr>\n",
        "      <th>2</th>\n",
        "      <td>      L. Tom Perry</td>\n",
        "      <td> 08/05/1922</td>\n",
        "      <td> 04/06/1974</td>\n",
        "      <td> 04/11/1974</td>\n",
        "      <td> 3</td>\n",
        "    </tr>\n",
        "    <tr>\n",
        "      <th>3</th>\n",
        "      <td> Russell M. Nelson</td>\n",
        "      <td> 09/09/1924</td>\n",
        "      <td> 04/07/1984</td>\n",
        "      <td> 04/12/1984</td>\n",
        "      <td> 4</td>\n",
        "    </tr>\n",
        "    <tr>\n",
        "      <th>4</th>\n",
        "      <td>    Dallin H. Oaks</td>\n",
        "      <td> 08/12/1932</td>\n",
        "      <td> 04/07/1984</td>\n",
        "      <td> 05/03/1984</td>\n",
        "      <td> 5</td>\n",
        "    </tr>\n",
        "  </tbody>\n",
        "</table>\n",
        "<p>5 rows \u00d7 5 columns</p>\n",
        "</div>"
       ],
       "metadata": {},
       "output_type": "pyout",
       "prompt_number": 5,
       "text": [
        "                Name       Birth      Twelve    Ordained  Seniority\n",
        "0   Thomas S. Monson  08/21/1927  10/04/1963  10/10/1963          1\n",
        "1     Boyd K. Packer  09/10/1924  04/06/1970  04/09/1970          2\n",
        "2       L. Tom Perry  08/05/1922  04/06/1974  04/11/1974          3\n",
        "3  Russell M. Nelson  09/09/1924  04/07/1984  04/12/1984          4\n",
        "4     Dallin H. Oaks  08/12/1932  04/07/1984  05/03/1984          5\n",
        "\n",
        "[5 rows x 5 columns]"
       ]
      }
     ],
     "prompt_number": 5
    },
    {
     "cell_type": "code",
     "collapsed": false,
     "input": [
      "class Apostle:\n",
      "    def __init__(self,name,birth,twelve,ordained,seniority):\n",
      "        self.name=name\n",
      "        self.birth=datetime.strptime(birth,'%m/%d/%Y')\n",
      "        self.twelve=datetime.strptime(twelve,'%m/%d/%Y')\n",
      "        self.ordained=datetime.strptime(ordained,'%m/%d/%Y')\n",
      "        self.seniority=seniority\n",
      "    \n",
      "    def __str__(self):\n",
      "        return \"Apostle ({})\".format(self.name)\n",
      "    \n",
      "    def age(self,year):\n",
      "        return year-self.birth.year\n",
      "    \n",
      "    def current_age(self):\n",
      "        current_year = datetime.now().year\n",
      "        return self.age(current_year)\n",
      "    \n",
      "    def most_probable_death_year(self,life_table):\n",
      "        current_age = self.current_age()\n",
      "        age_of_death = np.argmax(life_table[current_age]<.5)\n",
      "        return self.birth.year + age_of_death\n",
      "    \n",
      "    def most_probable_life_state(self,year,life_table):\n",
      "        return year <= self.most_probable_death_year(life_table)\n",
      "    \n",
      "    def simulate_death_year(self,life_table):\n",
      "        death_year = np.argmin(life_table[self.current_age()] > np.random.random(len(life_table[0])))\n",
      "        return self.birth.year + death_year\n",
      "    \n",
      "    def simulate_life_state(self,year,life_table):\n",
      "        life_state = self.simulate_death_year(life_table)\n",
      "        return year <= self.simulate_death_year(life_table)\n",
      "        "
     ],
     "language": "python",
     "metadata": {},
     "outputs": [],
     "prompt_number": 6
    },
    {
     "cell_type": "code",
     "collapsed": false,
     "input": [
      "apostles = []\n",
      "for i,row in apostle_data.iterrows():\n",
      "    apostle = Apostle(row.Name,row.Birth,row.Twelve,row.Ordained,row.Seniority)\n",
      "    apostles.append(apostle)\n",
      "    "
     ],
     "language": "python",
     "metadata": {},
     "outputs": [],
     "prompt_number": 7
    },
    {
     "cell_type": "code",
     "collapsed": false,
     "input": [
      "def most_probable_prophet_in_year(apostles,year,life_table):\n",
      "    apostles_alive = [apostle for apostle in apostles if apostle.most_probable_life_state(year,life_table)]\n",
      "    \n",
      "    if len(apostles_alive) == 0:\n",
      "        return\n",
      "    \n",
      "    apostle_index = np.argmin([apostle.seniority for apostle in apostles_alive])\n",
      "    return apostles_alive[apostle_index]\n",
      "\n",
      "def simulate_prophet_in_year(apostles,year,life_table):\n",
      "    apostles_alive = [apostle for apostle in apostles if apostle.simulate_life_state(year,life_table)]\n",
      "    if len(apostles_alive) == 0:\n",
      "        return\n",
      "    \n",
      "    apostle_index = np.argmin([apostle.seniority for apostle in apostles_alive])\n",
      "    return apostles_alive[apostle_index]"
     ],
     "language": "python",
     "metadata": {},
     "outputs": [],
     "prompt_number": 8
    },
    {
     "cell_type": "code",
     "collapsed": false,
     "input": [
      "for apostle in apostles:\n",
      "    death_year_dist = []\n",
      "    for i in range(10000):\n",
      "        death_year_dist.append(apostle.simulate_death_year(life_table))\n",
      "\n",
      "    plt.hist(death_year_dist,bins=range(2014,2040))\n",
      "    plt.title(apostle.name)\n",
      "    plt.show()"
     ],
     "language": "python",
     "metadata": {},
     "outputs": [
      {
       "metadata": {},
       "output_type": "display_data",
       "png": "[encoded data removed]",
       "text": [
        "<matplotlib.figure.Figure at 0x10b196550>"
       ]
      },
      {
       "metadata": {},
       "output_type": "display_data",
       "png": "[encoded data removed]",
       "text": [
        "<matplotlib.figure.Figure at 0x1131cb610>"
       ]
      },
      {
       "metadata": {},
       "output_type": "display_data",
       "png": "[encoded data removed]",
       "text": [
        "<matplotlib.figure.Figure at 0x1132034d0>"
       ]
      },
      {
       "metadata": {},
       "output_type": "display_data",
       "png": "[encoded data removed]",
       "text": [
        "<matplotlib.figure.Figure at 0x111138290>"
       ]
      },
      {
       "metadata": {},
       "output_type": "display_data",
       "png": "[encoded data removed]",
       "text": [
        "<matplotlib.figure.Figure at 0x1131d9790>"
       ]
      },
      {
       "metadata": {},
       "output_type": "display_data",
       "png": "[encoded data removed]",
       "text": [
        "<matplotlib.figure.Figure at 0x10b1966d0>"
       ]
      },
      {
       "metadata": {},
       "output_type": "display_data",
       "png": "[encoded data removed]",
       "text": [
        "<matplotlib.figure.Figure at 0x1131da750>"
       ]
      },
      {
       "metadata": {},
       "output_type": "display_data",
       "png": "[encoded data removed]",
       "text": [
        "<matplotlib.figure.Figure at 0x110f4be10>"
       ]
      },
      {
       "metadata": {},
       "output_type": "display_data",
       "png": "[encoded data removed]",
       "text": [
        "<matplotlib.figure.Figure at 0x10f873910>"
       ]
      },
      {
       "metadata": {},
       "output_type": "display_data",
       "png": "[encoded data removed]",
       "text": [
        "<matplotlib.figure.Figure at 0x111191b10>"
       ]
      },
      {
       "metadata": {},
       "output_type": "display_data",
       "png": "[encoded data removed]",
       "text": [
        "<matplotlib.figure.Figure at 0x113270950>"
       ]
      },
      {
       "metadata": {},
       "output_type": "display_data",
       "png": "[encoded data removed]",
       "text": [
        "<matplotlib.figure.Figure at 0x1131d7cd0>"
       ]
      },
      {
       "metadata": {},
       "output_type": "display_data",
       "png": "[encoded data removed]",
       "text": [
        "<matplotlib.figure.Figure at 0x10f873910>"
       ]
      },
      {
       "metadata": {},
       "output_type": "display_data",
       "png": "[encoded data removed]",
       "text": [
        "<matplotlib.figure.Figure at 0x113203710>"
       ]
      },
      {
       "metadata": {},
       "output_type": "display_data",
       "png": "[encoded data removed]",
       "text": [
        "<matplotlib.figure.Figure at 0x10b629210>"
       ]
      }
     ],
     "prompt_number": 9
    },
    {
     "cell_type": "code",
     "collapsed": false,
     "input": [
      "print most_probable_prophet_in_year(apostles,2020,life_table)"
     ],
     "language": "python",
     "metadata": {},
     "outputs": [
      {
       "output_type": "stream",
       "stream": "stdout",
       "text": [
        "Apostle (Dallin H. Oaks)\n"
       ]
      }
     ],
     "prompt_number": 10
    },
    {
     "cell_type": "code",
     "collapsed": false,
     "input": [
      "for year in range(2014,2040):\n",
      "    print most_probable_prophet_in_year(apostles,year,life_table)"
     ],
     "language": "python",
     "metadata": {},
     "outputs": [
      {
       "output_type": "stream",
       "stream": "stdout",
       "text": [
        "Apostle (Thomas S. Monson)\n",
        "Apostle (Thomas S. Monson)\n",
        "Apostle (Thomas S. Monson)\n",
        "Apostle (Thomas S. Monson)\n",
        "Apostle (Thomas S. Monson)\n",
        "Apostle (Dallin H. Oaks)\n",
        "Apostle (Dallin H. Oaks)\n",
        "Apostle (Jeffrey R. Holland)\n",
        "Apostle (Jeffrey R. Holland)\n",
        "Apostle (Jeffrey R. Holland)\n",
        "Apostle (Jeffrey R. Holland)\n",
        "Apostle (Jeffrey R. Holland)\n",
        "Apostle (David A. Bednar)\n",
        "Apostle (David A. Bednar)\n",
        "Apostle (David A. Bednar)\n",
        "Apostle (David A. Bednar)\n",
        "Apostle (David A. Bednar)\n",
        "Apostle (David A. Bednar)\n",
        "Apostle (David A. Bednar)\n",
        "Apostle (David A. Bednar)\n",
        "Apostle (David A. Bednar)\n",
        "None\n",
        "None\n",
        "None\n",
        "None\n",
        "None\n"
       ]
      }
     ],
     "prompt_number": 11
    },
    {
     "cell_type": "code",
     "collapsed": false,
     "input": [
      "n_trials = 1000\n",
      "for year in range(2014,2040):\n",
      "    prophets = defaultdict(list)\n",
      "    for i in range(n_trials):\n",
      "        prophet = simulate_prophet_in_year(apostles,year,life_table)\n",
      "        if prophet is not None:\n",
      "            prophets[prophet.name].append(1)\n",
      "        else:\n",
      "            prophets[\"other\"].append(1)\n",
      "    probabilities = []\n",
      "    for key,count in prophets.items():\n",
      "        probabilities.append((key,float(len(count))/n_trials))\n",
      "    probabilities = sorted(probabilities,key=lambda x: x[1],reverse=True)\n",
      "    print year\n",
      "    for name,probability in probabilities:\n",
      "        print \" {} ({})\".format(name,probability)\n",
      "    print\n",
      "        "
     ],
     "language": "python",
     "metadata": {},
     "outputs": [
      {
       "output_type": "stream",
       "stream": "stdout",
       "text": [
        "2014\n",
        " Thomas S. Monson (1.0)\n",
        "\n",
        "2015"
       ]
      },
      {
       "output_type": "stream",
       "stream": "stdout",
       "text": [
        "\n",
        " Thomas S. Monson (0.873)\n",
        " Boyd K. Packer (0.107)\n",
        " L. Tom Perry (0.016)\n",
        " Russell M. Nelson (0.004)\n",
        "\n",
        "2016"
       ]
      },
      {
       "output_type": "stream",
       "stream": "stdout",
       "text": [
        "\n",
        " Thomas S. Monson (0.689)\n",
        " Boyd K. Packer (0.172)\n",
        " L. Tom Perry (0.075)\n",
        " Russell M. Nelson (0.037)\n",
        " Dallin H. Oaks (0.02)\n",
        " M. Russell Ballard (0.005)\n",
        " Richard G. Scott (0.002)\n",
        "\n",
        "2017"
       ]
      },
      {
       "output_type": "stream",
       "stream": "stdout",
       "text": [
        "\n",
        " Thomas S. Monson (0.405)\n",
        " Boyd K. Packer (0.197)\n",
        " Dallin H. Oaks (0.132)\n",
        " Russell M. Nelson (0.1)\n",
        " L. Tom Perry (0.08)\n",
        " M. Russell Ballard (0.033)\n",
        " Richard G. Scott (0.024)\n",
        " Robert D. Hales (0.017)\n",
        " Jeffrey R. Holland (0.008)\n",
        " Dieter F. Uchtdorf (0.002)\n",
        " Henry B. Eyring (0.002)\n",
        "\n",
        "2018"
       ]
      },
      {
       "output_type": "stream",
       "stream": "stdout",
       "text": [
        "\n",
        " Dallin H. Oaks (0.26)\n",
        " Thomas S. Monson (0.237)\n",
        " Boyd K. Packer (0.086)\n",
        " Russell M. Nelson (0.079)\n",
        " M. Russell Ballard (0.077)\n",
        " Robert D. Hales (0.067)\n",
        " Richard G. Scott (0.061)\n",
        " Jeffrey R. Holland (0.056)\n",
        " L. Tom Perry (0.043)\n",
        " Dieter F. Uchtdorf (0.018)\n",
        " Henry B. Eyring (0.013)\n",
        " David A. Bednar (0.003)\n",
        "\n",
        "2019"
       ]
      },
      {
       "output_type": "stream",
       "stream": "stdout",
       "text": [
        "\n",
        " Dallin H. Oaks (0.207)\n",
        " Jeffrey R. Holland (0.206)\n",
        " Robert D. Hales (0.113)\n",
        " Thomas S. Monson (0.087)\n",
        " M. Russell Ballard (0.076)\n",
        " Richard G. Scott (0.066)\n",
        " Dieter F. Uchtdorf (0.06)\n",
        " Henry B. Eyring (0.044)\n",
        " Russell M. Nelson (0.043)\n",
        " David A. Bednar (0.039)\n",
        " Boyd K. Packer (0.035)\n",
        " L. Tom Perry (0.017)\n",
        " Quentin L. Cook (0.004)\n",
        " D. Todd Christofferson (0.002)\n",
        " Neil L. Andersen (0.001)\n",
        "\n",
        "2020"
       ]
      },
      {
       "output_type": "stream",
       "stream": "stdout",
       "text": [
        "\n",
        " Jeffrey R. Holland (0.261)\n",
        " David A. Bednar (0.146)\n",
        " Dallin H. Oaks (0.129)\n",
        " Dieter F. Uchtdorf (0.128)\n",
        " Robert D. Hales (0.085)\n",
        " Henry B. Eyring (0.063)\n",
        " M. Russell Ballard (0.039)\n",
        " Quentin L. Cook (0.037)\n",
        " Richard G. Scott (0.033)\n",
        " Thomas S. Monson (0.032)\n",
        " D. Todd Christofferson (0.021)\n",
        " Neil L. Andersen (0.011)\n",
        " Russell M. Nelson (0.005)\n",
        " L. Tom Perry (0.004)\n",
        " Boyd K. Packer (0.003)\n",
        " other (0.003)\n",
        "\n",
        "2021"
       ]
      },
      {
       "output_type": "stream",
       "stream": "stdout",
       "text": [
        "\n",
        " Jeffrey R. Holland (0.267)\n",
        " David A. Bednar (0.257)\n",
        " Dieter F. Uchtdorf (0.147)\n",
        " Dallin H. Oaks (0.073)\n",
        " Henry B. Eyring (0.057)\n",
        " D. Todd Christofferson (0.049)\n",
        " Robert D. Hales (0.042)\n",
        " Quentin L. Cook (0.036)\n",
        " Neil L. Andersen (0.028)\n",
        " other (0.016)\n",
        " M. Russell Ballard (0.012)\n",
        " Thomas S. Monson (0.009)\n",
        " Richard G. Scott (0.007)\n",
        "\n",
        "2022"
       ]
      },
      {
       "output_type": "stream",
       "stream": "stdout",
       "text": [
        "\n",
        " David A. Bednar (0.329)\n",
        " Jeffrey R. Holland (0.177)\n",
        " Dieter F. Uchtdorf (0.139)\n",
        " D. Todd Christofferson (0.09)\n",
        " Neil L. Andersen (0.07)\n",
        " other (0.055)\n",
        " Quentin L. Cook (0.051)\n",
        " Robert D. Hales (0.03)\n",
        " Dallin H. Oaks (0.027)\n",
        " Henry B. Eyring (0.022)\n",
        " M. Russell Ballard (0.006)\n",
        " Richard G. Scott (0.002)\n",
        " Thomas S. Monson (0.002)\n",
        "\n",
        "2023"
       ]
      },
      {
       "output_type": "stream",
       "stream": "stdout",
       "text": [
        "\n",
        " David A. Bednar (0.366)\n",
        " Jeffrey R. Holland (0.129)\n",
        " other (0.12)\n",
        " Neil L. Andersen (0.114)\n",
        " D. Todd Christofferson (0.102)\n",
        " Dieter F. Uchtdorf (0.097)\n",
        " Quentin L. Cook (0.045)\n",
        " Robert D. Hales (0.011)\n",
        " Henry B. Eyring (0.01)\n",
        " Dallin H. Oaks (0.004)\n",
        " Thomas S. Monson (0.001)\n",
        " Richard G. Scott (0.001)\n",
        "\n",
        "2024"
       ]
      },
      {
       "output_type": "stream",
       "stream": "stdout",
       "text": [
        "\n",
        " David A. Bednar (0.379)\n",
        " other (0.255)\n",
        " Neil L. Andersen (0.14)\n",
        " D. Todd Christofferson (0.084)\n",
        " Jeffrey R. Holland (0.065)\n",
        " Dieter F. Uchtdorf (0.045)\n",
        " Quentin L. Cook (0.029)\n",
        " Dallin H. Oaks (0.002)\n",
        " Henry B. Eyring (0.001)\n",
        "\n",
        "2025"
       ]
      },
      {
       "output_type": "stream",
       "stream": "stdout",
       "text": [
        "\n",
        " other (0.366)\n",
        " David A. Bednar (0.319)\n",
        " Neil L. Andersen (0.167)\n",
        " D. Todd Christofferson (0.065)\n",
        " Jeffrey R. Holland (0.034)\n",
        " Dieter F. Uchtdorf (0.026)\n",
        " Quentin L. Cook (0.021)\n",
        " Henry B. Eyring (0.001)\n",
        " Robert D. Hales (0.001)\n",
        "\n",
        "2026"
       ]
      },
      {
       "output_type": "stream",
       "stream": "stdout",
       "text": [
        "\n",
        " other (0.521)\n",
        " David A. Bednar (0.244)\n",
        " Neil L. Andersen (0.14)\n",
        " D. Todd Christofferson (0.052)\n",
        " Jeffrey R. Holland (0.016)\n",
        " Dieter F. Uchtdorf (0.015)\n",
        " Quentin L. Cook (0.011)\n",
        " Henry B. Eyring (0.001)\n",
        "\n",
        "2027"
       ]
      },
      {
       "output_type": "stream",
       "stream": "stdout",
       "text": [
        "\n",
        " other (0.662)\n",
        " David A. Bednar (0.15)\n",
        " Neil L. Andersen (0.124)\n",
        " D. Todd Christofferson (0.043)\n",
        " Quentin L. Cook (0.008)\n",
        " Jeffrey R. Holland (0.007)\n",
        " Dieter F. Uchtdorf (0.006)\n",
        "\n",
        "2028"
       ]
      },
      {
       "output_type": "stream",
       "stream": "stdout",
       "text": [
        "\n",
        " other (0.759)\n",
        " David A. Bednar (0.123)\n",
        " Neil L. Andersen (0.095)\n",
        " D. Todd Christofferson (0.016)\n",
        " Quentin L. Cook (0.003)\n",
        " Jeffrey R. Holland (0.002)\n",
        " Dieter F. Uchtdorf (0.002)\n",
        "\n",
        "2029"
       ]
      },
      {
       "output_type": "stream",
       "stream": "stdout",
       "text": [
        "\n",
        " other (0.837)\n",
        " David A. Bednar (0.092)\n",
        " Neil L. Andersen (0.06)\n",
        " D. Todd Christofferson (0.01)\n",
        " Quentin L. Cook (0.001)\n",
        "\n",
        "2030"
       ]
      },
      {
       "output_type": "stream",
       "stream": "stdout",
       "text": [
        "\n",
        " other (0.903)\n",
        " David A. Bednar (0.062)\n",
        " Neil L. Andersen (0.031)\n",
        " D. Todd Christofferson (0.004)\n",
        "\n",
        "2031"
       ]
      },
      {
       "output_type": "stream",
       "stream": "stdout",
       "text": [
        "\n",
        " other (0.929)\n",
        " David A. Bednar (0.044)\n",
        " Neil L. Andersen (0.025)\n",
        " D. Todd Christofferson (0.002)\n",
        "\n",
        "2032"
       ]
      },
      {
       "output_type": "stream",
       "stream": "stdout",
       "text": [
        "\n",
        " other (0.953)\n",
        " David A. Bednar (0.026)\n",
        " Neil L. Andersen (0.02)\n",
        " D. Todd Christofferson (0.001)\n",
        "\n",
        "2033"
       ]
      },
      {
       "output_type": "stream",
       "stream": "stdout",
       "text": [
        "\n",
        " other (0.979)\n",
        " Neil L. Andersen (0.011)\n",
        " David A. Bednar (0.01)\n",
        "\n",
        "2034"
       ]
      },
      {
       "output_type": "stream",
       "stream": "stdout",
       "text": [
        "\n",
        " other (0.987)\n",
        " David A. Bednar (0.008)\n",
        " Neil L. Andersen (0.005)\n",
        "\n",
        "2035"
       ]
      },
      {
       "output_type": "stream",
       "stream": "stdout",
       "text": [
        "\n",
        " other (0.992)\n",
        " David A. Bednar (0.005)\n",
        " Neil L. Andersen (0.003)\n",
        "\n",
        "2036"
       ]
      },
      {
       "output_type": "stream",
       "stream": "stdout",
       "text": [
        "\n",
        " other (0.993)\n",
        " David A. Bednar (0.005)\n",
        " Neil L. Andersen (0.002)\n",
        "\n",
        "2037"
       ]
      },
      {
       "output_type": "stream",
       "stream": "stdout",
       "text": [
        "\n",
        " other (1.0)\n",
        "\n",
        "2038"
       ]
      },
      {
       "output_type": "stream",
       "stream": "stdout",
       "text": [
        "\n",
        " other (1.0)\n",
        "\n",
        "2039"
       ]
      },
      {
       "output_type": "stream",
       "stream": "stdout",
       "text": [
        "\n",
        " other (1.0)\n",
        "\n"
       ]
      }
     ],
     "prompt_number": 12
    },
    {
     "cell_type": "code",
     "collapsed": false,
     "input": [],
     "language": "python",
     "metadata": {},
     "outputs": []
    }
   ],
   "metadata": {}
  }
 ]
}