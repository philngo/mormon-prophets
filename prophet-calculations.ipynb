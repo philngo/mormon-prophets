{
 "metadata": {
  "name": "",
  "signature": "sha256:c4d573b9d7ccf55d249746e8d546dba57e050fcdcf236f2b2a19c581628e1ba1"
 },
 "nbformat": 3,
 "nbformat_minor": 0,
 "worksheets": [
  {
   "cells": [
    {
     "cell_type": "code",
     "collapsed": false,
     "input": [
      "%matplotlib inline\n",
      "\n",
      "import matplotlib.pyplot as plt\n",
      "import numpy as np\n",
      "import pandas as pd\n",
      "from datetime import datetime\n",
      "from collections import defaultdict"
     ],
     "language": "python",
     "metadata": {},
     "outputs": [],
     "prompt_number": 1
    },
    {
     "cell_type": "code",
     "collapsed": false,
     "input": [
      "data = pd.read_csv('data/life_table.csv')\n",
      "data.set_index('Age',inplace=True)"
     ],
     "language": "python",
     "metadata": {},
     "outputs": [],
     "prompt_number": 2
    },
    {
     "cell_type": "code",
     "collapsed": false,
     "input": [
      "prob_death = data.M.values"
     ],
     "language": "python",
     "metadata": {},
     "outputs": [],
     "prompt_number": 3
    },
    {
     "cell_type": "code",
     "collapsed": false,
     "input": [
      "l = len(prob_death)\n",
      "life_table = np.ones((l,l))\n",
      "for i in range(0,l,1):\n",
      "    for j in range(i,l,1):\n",
      "        life_table[i][j]=np.prod(1 - prob_death[i:j+1])\n",
      "    "
     ],
     "language": "python",
     "metadata": {},
     "outputs": [],
     "prompt_number": 4
    },
    {
     "cell_type": "code",
     "collapsed": false,
     "input": [
      "apostle_data = pd.read_csv('data/apostles.csv')\n",
      "apostle_data.head()"
     ],
     "language": "python",
     "metadata": {},
     "outputs": [
      {
       "html": [
        "<div style=\"max-height:1000px;max-width:1500px;overflow:auto;\">\n",
        "<table border=\"1\" class=\"dataframe\">\n",
        "  <thead>\n",
        "    <tr style=\"text-align: right;\">\n",
        "      <th></th>\n",
        "      <th>Name</th>\n",
        "      <th>Birth</th>\n",
        "      <th>Twelve</th>\n",
        "      <th>Ordained</th>\n",
        "      <th>Seniority</th>\n",
        "    </tr>\n",
        "  </thead>\n",
        "  <tbody>\n",
        "    <tr>\n",
        "      <th>0</th>\n",
        "      <td>  Thomas S. Monson</td>\n",
        "      <td> 08/21/1927</td>\n",
        "      <td> 10/04/1963</td>\n",
        "      <td> 10/10/1963</td>\n",
        "      <td> 1</td>\n",
        "    </tr>\n",
        "    <tr>\n",
        "      <th>1</th>\n",
        "      <td>    Boyd K. Packer</td>\n",
        "      <td> 09/10/1924</td>\n",
        "      <td> 04/06/1970</td>\n",
        "      <td> 04/09/1970</td>\n",
        "      <td> 2</td>\n",
        "    </tr>\n",
        "    <tr>\n",
        "      <th>2</th>\n",
        "      <td>      L. Tom Perry</td>\n",
        "      <td> 08/05/1922</td>\n",
        "      <td> 04/06/1974</td>\n",
        "      <td> 04/11/1974</td>\n",
        "      <td> 3</td>\n",
        "    </tr>\n",
        "    <tr>\n",
        "      <th>3</th>\n",
        "      <td> Russell M. Nelson</td>\n",
        "      <td> 09/09/1924</td>\n",
        "      <td> 04/07/1984</td>\n",
        "      <td> 04/12/1984</td>\n",
        "      <td> 4</td>\n",
        "    </tr>\n",
        "    <tr>\n",
        "      <th>4</th>\n",
        "      <td>    Dallin H. Oaks</td>\n",
        "      <td> 08/12/1932</td>\n",
        "      <td> 04/07/1984</td>\n",
        "      <td> 05/03/1984</td>\n",
        "      <td> 5</td>\n",
        "    </tr>\n",
        "  </tbody>\n",
        "</table>\n",
        "<p>5 rows \u00d7 5 columns</p>\n",
        "</div>"
       ],
       "metadata": {},
       "output_type": "pyout",
       "prompt_number": 5,
       "text": [
        "                Name       Birth      Twelve    Ordained  Seniority\n",
        "0   Thomas S. Monson  08/21/1927  10/04/1963  10/10/1963          1\n",
        "1     Boyd K. Packer  09/10/1924  04/06/1970  04/09/1970          2\n",
        "2       L. Tom Perry  08/05/1922  04/06/1974  04/11/1974          3\n",
        "3  Russell M. Nelson  09/09/1924  04/07/1984  04/12/1984          4\n",
        "4     Dallin H. Oaks  08/12/1932  04/07/1984  05/03/1984          5\n",
        "\n",
        "[5 rows x 5 columns]"
       ]
      }
     ],
     "prompt_number": 5
    },
    {
     "cell_type": "code",
     "collapsed": false,
     "input": [
      "class Apostle:\n",
      "    def __init__(self,name,birth,twelve,ordained,seniority):\n",
      "        self.name=name\n",
      "        self.birth=datetime.strptime(birth,'%m/%d/%Y')\n",
      "        self.twelve=datetime.strptime(twelve,'%m/%d/%Y')\n",
      "        self.ordained=datetime.strptime(ordained,'%m/%d/%Y')\n",
      "        self.seniority=seniority\n",
      "    \n",
      "    def __str__(self):\n",
      "        return \"Apostle ({})\".format(self.name)\n",
      "    \n",
      "    def age(self,year):\n",
      "        return year-self.birth.year\n",
      "    \n",
      "    def current_age(self):\n",
      "        current_year = datetime.now().year\n",
      "        return self.age(current_year)\n",
      "    \n",
      "    def most_probable_death_year(self,life_table):\n",
      "        current_age = self.current_age()\n",
      "        age_of_death = np.argmax(life_table[current_age]<.5)\n",
      "        return self.birth.year + age_of_death\n",
      "    \n",
      "    def most_probable_life_state(self,year,life_table):\n",
      "        return year <= self.most_probable_death_year(life_table)\n",
      "    \n",
      "    def simulate_death_year(self,life_table):\n",
      "        death_year = np.argmin(life_table[self.current_age()] > np.random.random(len(life_table[0])))\n",
      "        return self.birth.year + death_year\n",
      "    \n",
      "    def simulate_life_state(self,year,life_table):\n",
      "        life_state = self.simulate_death_year(life_table)\n",
      "        return year <= self.simulate_death_year(life_table)\n",
      "        "
     ],
     "language": "python",
     "metadata": {},
     "outputs": [],
     "prompt_number": 6
    },
    {
     "cell_type": "code",
     "collapsed": false,
     "input": [
      "apostles = []\n",
      "for i,row in apostle_data.iterrows():\n",
      "    apostle = Apostle(row.Name,row.Birth,row.Twelve,row.Ordained,row.Seniority)\n",
      "    apostles.append(apostle)\n",
      "    "
     ],
     "language": "python",
     "metadata": {},
     "outputs": [],
     "prompt_number": 7
    },
    {
     "cell_type": "code",
     "collapsed": false,
     "input": [
      "def most_probable_prophet_in_year(apostles,year,life_table):\n",
      "    apostles_alive = [apostle for apostle in apostles if apostle.most_probable_life_state(year,life_table)]\n",
      "    \n",
      "    if len(apostles_alive) == 0:\n",
      "        return\n",
      "    \n",
      "    apostle_index = np.argmin([apostle.seniority for apostle in apostles_alive])\n",
      "    return apostles_alive[apostle_index]\n",
      "\n",
      "def simulate_prophet_in_year(apostles,year,life_table):\n",
      "    apostles_alive = [apostle for apostle in apostles if apostle.simulate_life_state(year,life_table)]\n",
      "    if len(apostles_alive) == 0:\n",
      "        return\n",
      "    \n",
      "    apostle_index = np.argmin([apostle.seniority for apostle in apostles_alive])\n",
      "    return apostles_alive[apostle_index]"
     ],
     "language": "python",
     "metadata": {},
     "outputs": [],
     "prompt_number": 8
    },
    {
     "cell_type": "code",
     "collapsed": false,
     "input": [
      "for apostle in apostles:\n",
      "    death_year_dist = []\n",
      "    for i in range(10000):\n",
      "        death_year_dist.append(apostle.simulate_death_year(life_table))\n",
      "\n",
      "    plt.hist(death_year_dist,bins=range(2014,2040))\n",
      "    plt.title(apostle.name)\n",
      "    plt.show()"
     ],
     "language": "python",
     "metadata": {},
     "outputs": [
      {
       "metadata": {},
       "output_type": "display_data",
       "png": "[encoded data removed]",
       "text": [
        "<matplotlib.figure.Figure at 0x10b196550>"
       ]
      },
      {
       "metadata": {},
       "output_type": "display_data",
       "png": "[encoded data removed]",
       "text": [
        "<matplotlib.figure.Figure at 0x1131cb610>"
       ]
      },
      {
       "metadata": {},
       "output_type": "display_data",
       "png": "[encoded data removed]",
       "text": [
        "<matplotlib.figure.Figure at 0x1132034d0>"
       ]
      },
      {
       "metadata": {},
       "output_type": "display_data",
       "png": "[encoded data removed]",
       "text": [
        "<matplotlib.figure.Figure at 0x111138290>"
       ]
      },
      {
       "metadata": {},
       "output_type": "display_data",
       "png": "[encoded data removed]",
       "text": [
        "<matplotlib.figure.Figure at 0x1131d9790>"
       ]
      },
      {
       "metadata": {},
       "output_type": "display_data",
       "png": "[encoded data removed]",
       "text": [
        "<matplotlib.figure.Figure at 0x10b1966d0>"
       ]
      },
      {
       "metadata": {},
       "output_type": "display_data",
       "png": "[encoded data removed]",
       "text": [
        "<matplotlib.figure.Figure at 0x1131da750>"
       ]
      },
      {
       "metadata": {},
       "output_type": "display_data",
       "png": "[encoded data removed]",
       "text": [
        "<matplotlib.figure.Figure at 0x110f4be10>"
       ]
      },
      {
       "metadata": {},
       "output_type": "display_data",
       "png": "[encoded data removed]",
       "text": [
        "<matplotlib.figure.Figure at 0x10f873910>"
       ]
      },
      {
       "metadata": {},
       "output_type": "display_data",
       "png": "[encoded data removed]",
       "text": [
        "<matplotlib.figure.Figure at 0x111191b10>"
       ]
      }
     ]
    },
    {
     "cell_type": "code",
     "collapsed": false,
     "input": [
      "print most_probable_prophet_in_year(apostles,2020,life_table)"
     ],
     "language": "python",
     "metadata": {},
     "outputs": [
      {
       "output_type": "stream",
       "stream": "stdout",
       "text": [
        "Apostle (Dallin H. Oaks)\n"
       ]
      }
     ],
     "prompt_number": 10
    },
    {
     "cell_type": "code",
     "collapsed": false,
     "input": [
      "for year in range(2014,2040):\n",
      "    print most_probable_prophet_in_year(apostles,year,life_table)"
     ],
     "language": "python",
     "metadata": {},
     "outputs": [
      {
       "output_type": "stream",
       "stream": "stdout",
       "text": [
        "Apostle (Thomas S. Monson)\n",
        "Apostle (Thomas S. Monson)\n",
        "Apostle (Thomas S. Monson)\n",
        "Apostle (Thomas S. Monson)\n",
        "Apostle (Thomas S. Monson)\n",
        "Apostle (Dallin H. Oaks)\n",
        "Apostle (Dallin H. Oaks)\n",
        "Apostle (Jeffrey R. Holland)\n",
        "Apostle (Jeffrey R. Holland)\n",
        "Apostle (Jeffrey R. Holland)\n",
        "Apostle (Jeffrey R. Holland)\n",
        "Apostle (Jeffrey R. Holland)\n",
        "Apostle (David A. Bednar)\n",
        "Apostle (David A. Bednar)\n",
        "Apostle (David A. Bednar)\n",
        "Apostle (David A. Bednar)\n",
        "Apostle (David A. Bednar)\n",
        "Apostle (David A. Bednar)\n",
        "Apostle (David A. Bednar)\n",
        "Apostle (David A. Bednar)\n",
        "Apostle (David A. Bednar)\n",
        "None\n",
        "None\n",
        "None\n",
        "None\n",
        "None\n"
       ]
      }
     ],
     "prompt_number": 13
    },
    {
     "cell_type": "code",
     "collapsed": false,
     "input": [
      "n_trials = 1000\n",
      "for year in range(2014,2040):\n",
      "    prophets = defaultdict(list)\n",
      "    for i in range(n_trials):\n",
      "        prophet = simulate_prophet_in_year(apostles,year,life_table)\n",
      "        if prophet is not None:\n",
      "            prophets[prophet.name].append(1)\n",
      "        else:\n",
      "            prophets[\"other\"].append(1)\n",
      "    probabilities = []\n",
      "    for key,count in prophets.items():\n",
      "        probabilities.append((key,float(len(count))/n_trials))\n",
      "    probabilities = sorted(probabilities,key=lambda x: x[1],reverse=True)\n",
      "    print year\n",
      "    for name,probability in probabilities:\n",
      "        print \" {} ({})\".format(name,probability)\n",
      "    print\n",
      "        "
     ],
     "language": "python",
     "metadata": {},
     "outputs": [
      {
       "output_type": "stream",
       "stream": "stdout",
       "text": [
        "2014\n",
        " Thomas S. Monson (1.0)\n",
        "\n",
        "2015"
       ]
      },
      {
       "output_type": "stream",
       "stream": "stdout",
       "text": [
        "\n",
        " Thomas S. Monson (0.891)\n",
        " Boyd K. Packer (0.091)\n",
        " L. Tom Perry (0.014)\n",
        " Russell M. Nelson (0.004)\n",
        "\n",
        "2016"
       ]
      },
      {
       "output_type": "stream",
       "stream": "stdout",
       "text": [
        "\n",
        " Thomas S. Monson (0.644)\n",
        " Boyd K. Packer (0.216)\n",
        " L. Tom Perry (0.064)\n",
        " Russell M. Nelson (0.044)\n",
        " Dallin H. Oaks (0.029)\n",
        " M. Russell Ballard (0.003)\n",
        "\n",
        "2017"
       ]
      },
      {
       "output_type": "stream",
       "stream": "stdout",
       "text": [
        "\n",
        " Thomas S. Monson (0.439)\n",
        " Boyd K. Packer (0.162)\n",
        " Dallin H. Oaks (0.134)\n",
        " L. Tom Perry (0.087)\n",
        " Russell M. Nelson (0.081)\n",
        " M. Russell Ballard (0.046)\n",
        " Richard G. Scott (0.03)\n",
        " Robert D. Hales (0.015)\n",
        " Jeffrey R. Holland (0.005)\n",
        " Henry B. Eyring (0.001)\n",
        "\n",
        "2018"
       ]
      },
      {
       "output_type": "stream",
       "stream": "stdout",
       "text": [
        "\n",
        " Dallin H. Oaks (0.232)\n",
        " Thomas S. Monson (0.209)\n",
        " Boyd K. Packer (0.114)\n",
        " M. Russell Ballard (0.086)\n",
        " Russell M. Nelson (0.076)\n",
        " Robert D. Hales (0.074)\n",
        " Jeffrey R. Holland (0.073)\n",
        " Richard G. Scott (0.063)\n",
        " L. Tom Perry (0.042)\n",
        " Dieter F. Uchtdorf (0.014)\n",
        " Henry B. Eyring (0.01)\n",
        " David A. Bednar (0.006)\n",
        " Quentin L. Cook (0.001)\n",
        "\n",
        "2019"
       ]
      },
      {
       "output_type": "stream",
       "stream": "stdout",
       "text": [
        "\n",
        " Dallin H. Oaks (0.211)\n",
        " Jeffrey R. Holland (0.203)\n",
        " Robert D. Hales (0.111)\n",
        " M. Russell Ballard (0.085)\n",
        " Thomas S. Monson (0.07)\n",
        " Dieter F. Uchtdorf (0.064)\n",
        " Richard G. Scott (0.064)\n",
        " David A. Bednar (0.048)\n",
        " Russell M. Nelson (0.044)\n",
        " Henry B. Eyring (0.04)\n",
        " Boyd K. Packer (0.032)\n",
        " L. Tom Perry (0.017)\n",
        " D. Todd Christofferson (0.006)\n",
        " Quentin L. Cook (0.005)\n",
        "\n",
        "2020"
       ]
      },
      {
       "output_type": "stream",
       "stream": "stdout",
       "text": [
        "\n",
        " Jeffrey R. Holland (0.272)\n",
        " David A. Bednar (0.149)\n",
        " Dallin H. Oaks (0.127)\n",
        " Dieter F. Uchtdorf (0.113)\n",
        " Robert D. Hales (0.111)\n",
        " Henry B. Eyring (0.056)\n",
        " Richard G. Scott (0.039)\n",
        " M. Russell Ballard (0.033)\n",
        " Thomas S. Monson (0.031)\n",
        " Quentin L. Cook (0.02)\n",
        " D. Todd Christofferson (0.018)\n",
        " Boyd K. Packer (0.012)\n",
        " Russell M. Nelson (0.009)\n",
        " Neil L. Andersen (0.006)\n",
        " other (0.003)\n",
        " L. Tom Perry (0.001)\n",
        "\n",
        "2021"
       ]
      },
      {
       "output_type": "stream",
       "stream": "stdout",
       "text": [
        "\n",
        " Jeffrey R. Holland (0.266)\n",
        " David A. Bednar (0.226)\n",
        " Dieter F. Uchtdorf (0.163)\n",
        " Dallin H. Oaks (0.077)\n",
        " Robert D. Hales (0.06)\n",
        " Henry B. Eyring (0.055)\n",
        " Quentin L. Cook (0.033)\n",
        " Neil L. Andersen (0.031)\n",
        " D. Todd Christofferson (0.027)\n",
        " other (0.022)\n",
        " Richard G. Scott (0.016)\n",
        " M. Russell Ballard (0.015)\n",
        " Thomas S. Monson (0.004)\n",
        " Boyd K. Packer (0.002)\n",
        " Russell M. Nelson (0.002)\n",
        " L. Tom Perry (0.001)\n",
        "\n",
        "2022"
       ]
      },
      {
       "output_type": "stream",
       "stream": "stdout",
       "text": [
        "\n",
        " David A. Bednar (0.315)\n",
        " Jeffrey R. Holland (0.182)\n",
        " Dieter F. Uchtdorf (0.133)\n",
        " D. Todd Christofferson (0.087)\n",
        " Neil L. Andersen (0.08)\n",
        " Quentin L. Cook (0.064)\n",
        " other (0.052)\n",
        " Henry B. Eyring (0.03)\n",
        " Robert D. Hales (0.025)\n",
        " Dallin H. Oaks (0.023)\n",
        " M. Russell Ballard (0.006)\n",
        " Richard G. Scott (0.003)\n",
        "\n",
        "2023"
       ]
      },
      {
       "output_type": "stream",
       "stream": "stdout",
       "text": [
        "\n",
        " David A. Bednar (0.363)\n",
        " other (0.14)\n",
        " Dieter F. Uchtdorf (0.114)\n",
        " Jeffrey R. Holland (0.107)\n",
        " Neil L. Andersen (0.101)\n",
        " D. Todd Christofferson (0.097)\n",
        " Quentin L. Cook (0.048)\n",
        " Robert D. Hales (0.011)\n",
        " Henry B. Eyring (0.008)\n",
        " Dallin H. Oaks (0.007)\n",
        " Thomas S. Monson (0.002)\n",
        " M. Russell Ballard (0.001)\n",
        " Richard G. Scott (0.001)\n",
        "\n",
        "2024"
       ]
      },
      {
       "output_type": "stream",
       "stream": "stdout",
       "text": [
        "\n",
        " David A. Bednar (0.336)\n",
        " other (0.274)\n",
        " Neil L. Andersen (0.141)\n",
        " D. Todd Christofferson (0.087)\n",
        " Dieter F. Uchtdorf (0.064)\n",
        " Jeffrey R. Holland (0.058)\n",
        " Quentin L. Cook (0.034)\n",
        " Henry B. Eyring (0.004)\n",
        " Dallin H. Oaks (0.002)\n",
        "\n",
        "2025"
       ]
      },
      {
       "output_type": "stream",
       "stream": "stdout",
       "text": [
        "\n",
        " other (0.379)\n",
        " David A. Bednar (0.275)\n",
        " Neil L. Andersen (0.173)\n",
        " D. Todd Christofferson (0.072)\n",
        " Dieter F. Uchtdorf (0.041)\n",
        " Jeffrey R. Holland (0.035)\n",
        " Quentin L. Cook (0.021)\n",
        " Henry B. Eyring (0.002)\n",
        " Dallin H. Oaks (0.002)\n",
        "\n",
        "2026"
       ]
      },
      {
       "output_type": "stream",
       "stream": "stdout",
       "text": [
        "\n",
        " other (0.512)\n",
        " David A. Bednar (0.234)\n",
        " Neil L. Andersen (0.16)\n",
        " D. Todd Christofferson (0.049)\n",
        " Jeffrey R. Holland (0.02)\n",
        " Dieter F. Uchtdorf (0.019)\n",
        " Quentin L. Cook (0.006)\n",
        "\n",
        "2027"
       ]
      },
      {
       "output_type": "stream",
       "stream": "stdout",
       "text": [
        "\n",
        " other (0.625)\n",
        " David A. Bednar (0.197)\n",
        " Neil L. Andersen (0.118)\n",
        " D. Todd Christofferson (0.034)\n",
        " Jeffrey R. Holland (0.01)\n",
        " Dieter F. Uchtdorf (0.008)\n",
        " Quentin L. Cook (0.008)\n",
        "\n",
        "2028"
       ]
      },
      {
       "output_type": "stream",
       "stream": "stdout",
       "text": [
        "\n",
        " other (0.762)\n",
        " David A. Bednar (0.116)\n",
        " Neil L. Andersen (0.098)\n",
        " D. Todd Christofferson (0.018)\n",
        " Jeffrey R. Holland (0.003)\n",
        " Quentin L. Cook (0.002)\n",
        " Dieter F. Uchtdorf (0.001)\n",
        "\n",
        "2029"
       ]
      },
      {
       "output_type": "stream",
       "stream": "stdout",
       "text": [
        "\n",
        " other (0.81)\n",
        " David A. Bednar (0.113)\n",
        " Neil L. Andersen (0.069)\n",
        " D. Todd Christofferson (0.008)\n",
        "\n",
        "2030"
       ]
      },
      {
       "output_type": "stream",
       "stream": "stdout",
       "text": [
        "\n",
        " other (0.895)\n",
        " David A. Bednar (0.063)\n",
        " Neil L. Andersen (0.037)\n",
        " D. Todd Christofferson (0.005)\n",
        "\n",
        "2031"
       ]
      },
      {
       "output_type": "stream",
       "stream": "stdout",
       "text": [
        "\n",
        " other (0.931)\n",
        " David A. Bednar (0.039)\n",
        " Neil L. Andersen (0.03)\n",
        "\n",
        "2032"
       ]
      },
      {
       "output_type": "stream",
       "stream": "stdout",
       "text": [
        "\n",
        " other (0.959)\n",
        " Neil L. Andersen (0.021)\n",
        " David A. Bednar (0.02)\n",
        "\n",
        "2033"
       ]
      },
      {
       "output_type": "stream",
       "stream": "stdout",
       "text": [
        "\n",
        " other (0.977)\n",
        " David A. Bednar (0.016)\n",
        " Neil L. Andersen (0.006)\n",
        " D. Todd Christofferson (0.001)\n",
        "\n",
        "2034"
       ]
      },
      {
       "output_type": "stream",
       "stream": "stdout",
       "text": [
        "\n",
        " other (0.985)\n",
        " David A. Bednar (0.01)\n",
        " Neil L. Andersen (0.005)\n",
        "\n",
        "2035"
       ]
      },
      {
       "output_type": "stream",
       "stream": "stdout",
       "text": [
        "\n",
        " other (0.997)\n",
        " David A. Bednar (0.002)\n",
        " Neil L. Andersen (0.001)\n",
        "\n",
        "2036"
       ]
      },
      {
       "output_type": "stream",
       "stream": "stdout",
       "text": [
        "\n",
        " other (0.996)\n",
        " Neil L. Andersen (0.002)\n",
        " David A. Bednar (0.002)\n",
        "\n",
        "2037"
       ]
      },
      {
       "output_type": "stream",
       "stream": "stdout",
       "text": [
        "\n",
        " other (0.999)\n",
        " David A. Bednar (0.001)\n",
        "\n",
        "2038"
       ]
      },
      {
       "output_type": "stream",
       "stream": "stdout",
       "text": [
        "\n",
        " other (1.0)\n",
        "\n",
        "2039"
       ]
      },
      {
       "output_type": "stream",
       "stream": "stdout",
       "text": [
        "\n",
        " other (1.0)\n",
        "\n"
       ]
      }
     ],
     "prompt_number": 12
    },
    {
     "cell_type": "code",
     "collapsed": false,
     "input": [],
     "language": "python",
     "metadata": {},
     "outputs": []
    }
   ],
   "metadata": {}
  }
 ]
}